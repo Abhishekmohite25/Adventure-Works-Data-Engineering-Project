{
 "cells": [
  {
   "cell_type": "code",
   "execution_count": 0,
   "metadata": {
    "application/vnd.databricks.v1+cell": {
     "cellMetadata": {
      "byteLimit": 2048000,
      "rowLimit": 10000
     },
     "inputWidgets": {},
     "nuid": "3b09bda0-3e59-477e-9d64-5d3e04ba907b",
     "showTitle": false,
     "tableResultSettingsMap": {},
     "title": ""
    }
   },
   "outputs": [],
   "source": [
    "from pyspark.sql.functions import *\n",
    "from pyspark.sql.types import *"
   ]
  },
  {
   "cell_type": "markdown",
   "metadata": {
    "application/vnd.databricks.v1+cell": {
     "cellMetadata": {
      "byteLimit": 2048000,
      "rowLimit": 10000
     },
     "inputWidgets": {},
     "nuid": "17ead545-e3b4-49f7-a023-9c326e293486",
     "showTitle": false,
     "tableResultSettingsMap": {},
     "title": ""
    }
   },
   "source": [
    "# Data Reading"
   ]
  },
  {
   "cell_type": "markdown",
   "metadata": {
    "application/vnd.databricks.v1+cell": {
     "cellMetadata": {},
     "inputWidgets": {},
     "nuid": "6bb8100c-7ff8-4ebc-aef5-ff80569c9351",
     "showTitle": false,
     "tableResultSettingsMap": {},
     "title": ""
    }
   },
   "source": [
    "### 1. Calender"
   ]
  },
  {
   "cell_type": "code",
   "execution_count": 0,
   "metadata": {
    "application/vnd.databricks.v1+cell": {
     "cellMetadata": {
      "byteLimit": 2048000,
      "rowLimit": 10000
     },
     "inputWidgets": {},
     "nuid": "d7b28f1e-9eee-4f6f-97fd-1dc039969ba5",
     "showTitle": false,
     "tableResultSettingsMap": {},
     "title": ""
    }
   },
   "outputs": [],
   "source": [
    "df_cal = spark.read.format('csv')\\\n",
    "                    .option('header',True)\\\n",
    "                    .option('inferSchema',True)\\\n",
    "                    .load('abfss://bronze@abhishekdatalake0.dfs.core.windows.net/AdventureWorks_Calendar')\n"
   ]
  },
  {
   "cell_type": "markdown",
   "metadata": {
    "application/vnd.databricks.v1+cell": {
     "cellMetadata": {},
     "inputWidgets": {},
     "nuid": "13227aff-f347-410a-aeac-9a422180c915",
     "showTitle": false,
     "tableResultSettingsMap": {},
     "title": ""
    }
   },
   "source": [
    "### 2. Customers"
   ]
  },
  {
   "cell_type": "code",
   "execution_count": 0,
   "metadata": {
    "application/vnd.databricks.v1+cell": {
     "cellMetadata": {
      "byteLimit": 2048000,
      "rowLimit": 10000
     },
     "inputWidgets": {},
     "nuid": "c079fa9b-ca3f-418a-bc45-1e6b9570980b",
     "showTitle": false,
     "tableResultSettingsMap": {},
     "title": ""
    }
   },
   "outputs": [],
   "source": [
    "df_cus = spark.read.format('csv')\\\n",
    "                    .option('header',True)\\\n",
    "                    .option('inferSchema',True)\\\n",
    "                    .load('abfss://bronze@abhishekdatalake0.dfs.core.windows.net/AdventureWorks_Customers')\n"
   ]
  },
  {
   "cell_type": "markdown",
   "metadata": {
    "application/vnd.databricks.v1+cell": {
     "cellMetadata": {},
     "inputWidgets": {},
     "nuid": "46650d02-8425-4a76-b938-c29cbff727e8",
     "showTitle": false,
     "tableResultSettingsMap": {},
     "title": ""
    }
   },
   "source": [
    "### 3. Product_Categories"
   ]
  },
  {
   "cell_type": "code",
   "execution_count": 0,
   "metadata": {
    "application/vnd.databricks.v1+cell": {
     "cellMetadata": {
      "byteLimit": 2048000,
      "rowLimit": 10000
     },
     "inputWidgets": {},
     "nuid": "34eb6a55-7433-45cb-9e1e-d194added29c",
     "showTitle": false,
     "tableResultSettingsMap": {},
     "title": ""
    }
   },
   "outputs": [],
   "source": [
    "df_procat = spark.read.format('csv')\\\n",
    "                    .option('header',True)\\\n",
    "                    .option('inferSchema',True)\\\n",
    "                    .load('abfss://bronze@abhishekdatalake0.dfs.core.windows.net/AdventureWorks_Product_Categories')\n"
   ]
  },
  {
   "cell_type": "markdown",
   "metadata": {
    "application/vnd.databricks.v1+cell": {
     "cellMetadata": {},
     "inputWidgets": {},
     "nuid": "d878200b-9fad-4816-835b-bbda6021a835",
     "showTitle": false,
     "tableResultSettingsMap": {},
     "title": ""
    }
   },
   "source": [
    "### 4. Products"
   ]
  },
  {
   "cell_type": "code",
   "execution_count": 0,
   "metadata": {
    "application/vnd.databricks.v1+cell": {
     "cellMetadata": {
      "byteLimit": 2048000,
      "rowLimit": 10000
     },
     "inputWidgets": {},
     "nuid": "187ed285-0b32-4cc6-8f6b-0ace5a7f483f",
     "showTitle": false,
     "tableResultSettingsMap": {},
     "title": ""
    }
   },
   "outputs": [],
   "source": [
    "df_pro = spark.read.format('csv')\\\n",
    "                    .option('header',True)\\\n",
    "                    .option('inferSchema',True)\\\n",
    "                    .load('abfss://bronze@abhishekdatalake0.dfs.core.windows.net/AdventureWorks_Products')\n"
   ]
  },
  {
   "cell_type": "markdown",
   "metadata": {
    "application/vnd.databricks.v1+cell": {
     "cellMetadata": {},
     "inputWidgets": {},
     "nuid": "6fb9bd6c-8df9-4282-9f7c-bf961294f24c",
     "showTitle": false,
     "tableResultSettingsMap": {},
     "title": ""
    }
   },
   "source": [
    "### 5. Returns"
   ]
  },
  {
   "cell_type": "code",
   "execution_count": 0,
   "metadata": {
    "application/vnd.databricks.v1+cell": {
     "cellMetadata": {
      "byteLimit": 2048000,
      "rowLimit": 10000
     },
     "inputWidgets": {},
     "nuid": "9ea8ad06-63d3-4fe5-9cfc-f714086ee42b",
     "showTitle": false,
     "tableResultSettingsMap": {},
     "title": ""
    }
   },
   "outputs": [],
   "source": [
    "df_ret = spark.read.format('csv')\\\n",
    "                    .option('header',True)\\\n",
    "                    .option('inferSchema',True)\\\n",
    "                    .load('abfss://bronze@abhishekdatalake0.dfs.core.windows.net/AdventureWorks_Returns')\n"
   ]
  },
  {
   "cell_type": "markdown",
   "metadata": {
    "application/vnd.databricks.v1+cell": {
     "cellMetadata": {},
     "inputWidgets": {},
     "nuid": "34c046ac-54ff-4ec2-b2b5-8e930b126c4d",
     "showTitle": false,
     "tableResultSettingsMap": {},
     "title": ""
    }
   },
   "source": [
    "### 6. All Sales data combined"
   ]
  },
  {
   "cell_type": "code",
   "execution_count": 0,
   "metadata": {
    "application/vnd.databricks.v1+cell": {
     "cellMetadata": {
      "byteLimit": 2048000,
      "rowLimit": 10000
     },
     "inputWidgets": {},
     "nuid": "b87f32b7-b3fd-456a-9c22-78046c78897e",
     "showTitle": false,
     "tableResultSettingsMap": {},
     "title": ""
    }
   },
   "outputs": [],
   "source": [
    "df_sal = spark.read.format('csv')\\\n",
    "                    .option('header',True)\\\n",
    "                    .option('inferSchema',True)\\\n",
    "                    .load('abfss://bronze@abhishekdatalake0.dfs.core.windows.net/AdventureWorks_Sales*')\n"
   ]
  },
  {
   "cell_type": "markdown",
   "metadata": {
    "application/vnd.databricks.v1+cell": {
     "cellMetadata": {},
     "inputWidgets": {},
     "nuid": "95054b5b-f55e-47eb-b49c-b1fc33567065",
     "showTitle": false,
     "tableResultSettingsMap": {},
     "title": ""
    }
   },
   "source": [
    "### 7. Territories"
   ]
  },
  {
   "cell_type": "code",
   "execution_count": 0,
   "metadata": {
    "application/vnd.databricks.v1+cell": {
     "cellMetadata": {
      "byteLimit": 2048000,
      "rowLimit": 10000
     },
     "inputWidgets": {},
     "nuid": "ad0f69ef-6c5c-4f06-bf6a-a478411342e7",
     "showTitle": false,
     "tableResultSettingsMap": {},
     "title": ""
    }
   },
   "outputs": [],
   "source": [
    "df_ter = spark.read.format('csv')\\\n",
    "                    .option('header',True)\\\n",
    "                    .option('inferSchema',True)\\\n",
    "                    .load('abfss://bronze@abhishekdatalake0.dfs.core.windows.net/AdventureWorks_Territories')\n"
   ]
  },
  {
   "cell_type": "markdown",
   "metadata": {
    "application/vnd.databricks.v1+cell": {
     "cellMetadata": {},
     "inputWidgets": {},
     "nuid": "83afa7c0-38e4-4918-af7e-762ab697d913",
     "showTitle": false,
     "tableResultSettingsMap": {},
     "title": ""
    }
   },
   "source": [
    "### 8. Product_Subcategories"
   ]
  },
  {
   "cell_type": "code",
   "execution_count": 0,
   "metadata": {
    "application/vnd.databricks.v1+cell": {
     "cellMetadata": {
      "byteLimit": 2048000,
      "rowLimit": 10000
     },
     "inputWidgets": {},
     "nuid": "dde625ac-9d24-4efe-a8d8-0614a452b5a2",
     "showTitle": false,
     "tableResultSettingsMap": {},
     "title": ""
    }
   },
   "outputs": [],
   "source": [
    "df_prosub = spark.read.format('csv')\\\n",
    "                    .option('header',True)\\\n",
    "                    .option('inferSchema',True)\\\n",
    "                    .load('abfss://bronze@abhishekdatalake0.dfs.core.windows.net/Product_Subcategories')\n"
   ]
  },
  {
   "cell_type": "markdown",
   "metadata": {
    "application/vnd.databricks.v1+cell": {
     "cellMetadata": {
      "byteLimit": 2048000,
      "rowLimit": 10000
     },
     "inputWidgets": {},
     "nuid": "85db8b9d-a353-4820-b5b7-f36eccc53b2c",
     "showTitle": false,
     "tableResultSettingsMap": {},
     "title": ""
    }
   },
   "source": [
    "#  Transformations"
   ]
  },
  {
   "cell_type": "markdown",
   "metadata": {
    "application/vnd.databricks.v1+cell": {
     "cellMetadata": {},
     "inputWidgets": {},
     "nuid": "eda48aa5-b2b3-4dcf-a4e2-dcc0b4aafae3",
     "showTitle": false,
     "tableResultSettingsMap": {},
     "title": ""
    }
   },
   "source": [
    "### 1. Calender"
   ]
  },
  {
   "cell_type": "markdown",
   "metadata": {
    "application/vnd.databricks.v1+cell": {
     "cellMetadata": {},
     "inputWidgets": {},
     "nuid": "cb320936-163c-4e21-92a4-8cd65fe2b88a",
     "showTitle": false,
     "tableResultSettingsMap": {},
     "title": ""
    }
   },
   "source": [
    "Extracting day, month, year from date"
   ]
  },
  {
   "cell_type": "code",
   "execution_count": 0,
   "metadata": {
    "application/vnd.databricks.v1+cell": {
     "cellMetadata": {
      "byteLimit": 2048000,
      "rowLimit": 10000
     },
     "inputWidgets": {},
     "nuid": "9b0a17db-29ac-495d-96b5-a602883c08e6",
     "showTitle": false,
     "tableResultSettingsMap": {},
     "title": ""
    }
   },
   "outputs": [],
   "source": [
    "df_cal = df_cal.withColumn('day',dayofmonth(col('Date'))).withColumn('month',month(col('Date'))).withColumn('year',year(col('Date')))"
   ]
  },
  {
   "cell_type": "code",
   "execution_count": 0,
   "metadata": {
    "application/vnd.databricks.v1+cell": {
     "cellMetadata": {
      "byteLimit": 2048000,
      "rowLimit": 10000
     },
     "inputWidgets": {},
     "nuid": "ffbc32fa-9223-4b85-842a-0a64965b1c46",
     "showTitle": false,
     "tableResultSettingsMap": {},
     "title": ""
    }
   },
   "outputs": [
    {
     "output_type": "display_data",
     "data": {
      "text/html": [
       "<style scoped>\n",
       "  .table-result-container {\n",
       "    max-height: 300px;\n",
       "    overflow: auto;\n",
       "  }\n",
       "  table, th, td {\n",
       "    border: 1px solid black;\n",
       "    border-collapse: collapse;\n",
       "  }\n",
       "  th, td {\n",
       "    padding: 5px;\n",
       "  }\n",
       "  th {\n",
       "    text-align: left;\n",
       "  }\n",
       "</style><div class='table-result-container'><table class='table-result'><thead style='background-color: white'><tr><th>Date</th><th>day</th><th>month</th><th>year</th></tr></thead><tbody><tr><td>2015-01-01</td><td>1</td><td>1</td><td>2015</td></tr><tr><td>2015-01-02</td><td>2</td><td>1</td><td>2015</td></tr><tr><td>2015-01-03</td><td>3</td><td>1</td><td>2015</td></tr><tr><td>2015-01-04</td><td>4</td><td>1</td><td>2015</td></tr><tr><td>2015-01-05</td><td>5</td><td>1</td><td>2015</td></tr><tr><td>2015-01-06</td><td>6</td><td>1</td><td>2015</td></tr><tr><td>2015-01-07</td><td>7</td><td>1</td><td>2015</td></tr><tr><td>2015-01-08</td><td>8</td><td>1</td><td>2015</td></tr><tr><td>2015-01-09</td><td>9</td><td>1</td><td>2015</td></tr><tr><td>2015-01-10</td><td>10</td><td>1</td><td>2015</td></tr></tbody></table></div>"
      ]
     },
     "metadata": {
      "application/vnd.databricks.v1+output": {
       "addedWidgets": {},
       "aggData": [],
       "aggError": "",
       "aggOverflow": false,
       "aggSchema": [],
       "aggSeriesLimitReached": false,
       "aggType": "",
       "arguments": {},
       "columnCustomDisplayInfos": {},
       "data": [
        [
         "2015-01-01",
         1,
         1,
         2015
        ],
        [
         "2015-01-02",
         2,
         1,
         2015
        ],
        [
         "2015-01-03",
         3,
         1,
         2015
        ],
        [
         "2015-01-04",
         4,
         1,
         2015
        ],
        [
         "2015-01-05",
         5,
         1,
         2015
        ],
        [
         "2015-01-06",
         6,
         1,
         2015
        ],
        [
         "2015-01-07",
         7,
         1,
         2015
        ],
        [
         "2015-01-08",
         8,
         1,
         2015
        ],
        [
         "2015-01-09",
         9,
         1,
         2015
        ],
        [
         "2015-01-10",
         10,
         1,
         2015
        ]
       ],
       "datasetInfos": [],
       "dbfsResultPath": null,
       "isJsonSchema": true,
       "metadata": {},
       "overflow": false,
       "plotOptions": {
        "customPlotOptions": {},
        "displayType": "table",
        "pivotAggregation": null,
        "pivotColumns": null,
        "xColumns": null,
        "yColumns": null
       },
       "removedWidgets": [],
       "schema": [
        {
         "metadata": "{\"__detected_date_formats\": \"M/d/yyyy\"}",
         "name": "Date",
         "type": "\"date\""
        },
        {
         "metadata": "{}",
         "name": "day",
         "type": "\"integer\""
        },
        {
         "metadata": "{}",
         "name": "month",
         "type": "\"integer\""
        },
        {
         "metadata": "{}",
         "name": "year",
         "type": "\"integer\""
        }
       ],
       "type": "table"
      }
     },
     "output_type": "display_data"
    }
   ],
   "source": [
    "df_cal.limit(10).display()"
   ]
  },
  {
   "cell_type": "code",
   "execution_count": 0,
   "metadata": {
    "application/vnd.databricks.v1+cell": {
     "cellMetadata": {
      "byteLimit": 2048000,
      "rowLimit": 10000
     },
     "inputWidgets": {},
     "nuid": "af084b8e-a3b8-4ad4-a07e-b7530cb35a7f",
     "showTitle": false,
     "tableResultSettingsMap": {},
     "title": ""
    }
   },
   "outputs": [],
   "source": [
    "df_cal.write.format('parquet')\\\n",
    "                .mode('append')\\\n",
    "                .option(\"path\",\"abfss://silver@abhishekdatalake0.dfs.core.windows.net/AdventureWorks_Calendar\")\\\n",
    "                .save()"
   ]
  },
  {
   "cell_type": "markdown",
   "metadata": {
    "application/vnd.databricks.v1+cell": {
     "cellMetadata": {},
     "inputWidgets": {},
     "nuid": "9e067a45-9a08-4c38-afdb-f996b5e99d17",
     "showTitle": false,
     "tableResultSettingsMap": {},
     "title": ""
    }
   },
   "source": [
    "### 2. Customers"
   ]
  },
  {
   "cell_type": "markdown",
   "metadata": {
    "application/vnd.databricks.v1+cell": {
     "cellMetadata": {},
     "inputWidgets": {},
     "nuid": "18e24199-5638-40e1-8fb5-850b01b60a1a",
     "showTitle": false,
     "tableResultSettingsMap": {},
     "title": ""
    }
   },
   "source": [
    "concat Full_Name"
   ]
  },
  {
   "cell_type": "code",
   "execution_count": 0,
   "metadata": {
    "application/vnd.databricks.v1+cell": {
     "cellMetadata": {
      "byteLimit": 2048000,
      "rowLimit": 10000
     },
     "inputWidgets": {},
     "nuid": "75f8c0b0-7745-4550-bf16-758851ed34df",
     "showTitle": false,
     "tableResultSettingsMap": {},
     "title": ""
    }
   },
   "outputs": [],
   "source": [
    "df_cus = df_cus.withColumn('FullName',concat(col('Prefix'),lit(' '),col('FirstName'),lit(' '),col('LastName')))\n",
    "#df_cus = df_cus.withColumn('FullName',concat_ws(' ',col('Prefix'),col('FirstName'),col('LastName')))"
   ]
  },
  {
   "cell_type": "code",
   "execution_count": 0,
   "metadata": {
    "application/vnd.databricks.v1+cell": {
     "cellMetadata": {
      "byteLimit": 2048000,
      "rowLimit": 10000
     },
     "inputWidgets": {},
     "nuid": "436a11ef-bb0f-4dfc-a48a-a56c1106a337",
     "showTitle": false,
     "tableResultSettingsMap": {},
     "title": ""
    }
   },
   "outputs": [
    {
     "output_type": "display_data",
     "data": {
      "text/html": [
       "<style scoped>\n",
       "  .table-result-container {\n",
       "    max-height: 300px;\n",
       "    overflow: auto;\n",
       "  }\n",
       "  table, th, td {\n",
       "    border: 1px solid black;\n",
       "    border-collapse: collapse;\n",
       "  }\n",
       "  th, td {\n",
       "    padding: 5px;\n",
       "  }\n",
       "  th {\n",
       "    text-align: left;\n",
       "  }\n",
       "</style><div class='table-result-container'><table class='table-result'><thead style='background-color: white'><tr><th>CustomerKey</th><th>Prefix</th><th>FirstName</th><th>LastName</th><th>BirthDate</th><th>MaritalStatus</th><th>Gender</th><th>EmailAddress</th><th>AnnualIncome</th><th>TotalChildren</th><th>EducationLevel</th><th>Occupation</th><th>HomeOwner</th><th>FullName</th></tr></thead><tbody><tr><td>11000</td><td>MR.</td><td>JON</td><td>YANG</td><td>1966-04-08</td><td>M</td><td>M</td><td>jon24@adventure-works.com</td><td>$90,000 </td><td>2</td><td>Bachelors</td><td>Professional</td><td>Y</td><td>MR. JON YANG</td></tr><tr><td>11001</td><td>MR.</td><td>EUGENE</td><td>HUANG</td><td>1965-05-14</td><td>S</td><td>M</td><td>eugene10@adventure-works.com</td><td>$60,000 </td><td>3</td><td>Bachelors</td><td>Professional</td><td>N</td><td>MR. EUGENE HUANG</td></tr><tr><td>11002</td><td>MR.</td><td>RUBEN</td><td>TORRES</td><td>1965-08-12</td><td>M</td><td>M</td><td>ruben35@adventure-works.com</td><td>$60,000 </td><td>3</td><td>Bachelors</td><td>Professional</td><td>Y</td><td>MR. RUBEN TORRES</td></tr><tr><td>11003</td><td>MS.</td><td>CHRISTY</td><td>ZHU</td><td>1968-02-15</td><td>S</td><td>F</td><td>christy12@adventure-works.com</td><td>$70,000 </td><td>0</td><td>Bachelors</td><td>Professional</td><td>N</td><td>MS. CHRISTY ZHU</td></tr><tr><td>11004</td><td>MRS.</td><td>ELIZABETH</td><td>JOHNSON</td><td>1968-08-08</td><td>S</td><td>F</td><td>elizabeth5@adventure-works.com</td><td>$80,000 </td><td>5</td><td>Bachelors</td><td>Professional</td><td>Y</td><td>MRS. ELIZABETH JOHNSON</td></tr><tr><td>11005</td><td>MR.</td><td>JULIO</td><td>RUIZ</td><td>1965-08-05</td><td>S</td><td>M</td><td>julio1@adventure-works.com</td><td>$70,000 </td><td>0</td><td>Bachelors</td><td>Professional</td><td>Y</td><td>MR. JULIO RUIZ</td></tr><tr><td>11007</td><td>MR.</td><td>MARCO</td><td>MEHTA</td><td>1964-05-09</td><td>M</td><td>M</td><td>marco14@adventure-works.com</td><td>$60,000 </td><td>3</td><td>Bachelors</td><td>Professional</td><td>Y</td><td>MR. MARCO MEHTA</td></tr><tr><td>11008</td><td>MRS.</td><td>ROBIN</td><td>VERHOFF</td><td>1964-07-07</td><td>S</td><td>F</td><td>rob4@adventure-works.com</td><td>$60,000 </td><td>4</td><td>Bachelors</td><td>Professional</td><td>Y</td><td>MRS. ROBIN VERHOFF</td></tr><tr><td>11009</td><td>MR.</td><td>SHANNON</td><td>CARLSON</td><td>1964-04-01</td><td>S</td><td>M</td><td>shannon38@adventure-works.com</td><td>$70,000 </td><td>0</td><td>Bachelors</td><td>Professional</td><td>N</td><td>MR. SHANNON CARLSON</td></tr><tr><td>11010</td><td>MS.</td><td>JACQUELYN</td><td>SUAREZ</td><td>1964-02-06</td><td>S</td><td>F</td><td>jacquelyn20@adventure-works.com</td><td>$70,000 </td><td>0</td><td>Bachelors</td><td>Professional</td><td>N</td><td>MS. JACQUELYN SUAREZ</td></tr></tbody></table></div>"
      ]
     },
     "metadata": {
      "application/vnd.databricks.v1+output": {
       "addedWidgets": {},
       "aggData": [],
       "aggError": "",
       "aggOverflow": false,
       "aggSchema": [],
       "aggSeriesLimitReached": false,
       "aggType": "",
       "arguments": {},
       "columnCustomDisplayInfos": {},
       "data": [
        [
         11000,
         "MR.",
         "JON",
         "YANG",
         "1966-04-08",
         "M",
         "M",
         "jon24@adventure-works.com",
         "$90,000 ",
         2,
         "Bachelors",
         "Professional",
         "Y",
         "MR. JON YANG"
        ],
        [
         11001,
         "MR.",
         "EUGENE",
         "HUANG",
         "1965-05-14",
         "S",
         "M",
         "eugene10@adventure-works.com",
         "$60,000 ",
         3,
         "Bachelors",
         "Professional",
         "N",
         "MR. EUGENE HUANG"
        ],
        [
         11002,
         "MR.",
         "RUBEN",
         "TORRES",
         "1965-08-12",
         "M",
         "M",
         "ruben35@adventure-works.com",
         "$60,000 ",
         3,
         "Bachelors",
         "Professional",
         "Y",
         "MR. RUBEN TORRES"
        ],
        [
         11003,
         "MS.",
         "CHRISTY",
         "ZHU",
         "1968-02-15",
         "S",
         "F",
         "christy12@adventure-works.com",
         "$70,000 ",
         0,
         "Bachelors",
         "Professional",
         "N",
         "MS. CHRISTY ZHU"
        ],
        [
         11004,
         "MRS.",
         "ELIZABETH",
         "JOHNSON",
         "1968-08-08",
         "S",
         "F",
         "elizabeth5@adventure-works.com",
         "$80,000 ",
         5,
         "Bachelors",
         "Professional",
         "Y",
         "MRS. ELIZABETH JOHNSON"
        ],
        [
         11005,
         "MR.",
         "JULIO",
         "RUIZ",
         "1965-08-05",
         "S",
         "M",
         "julio1@adventure-works.com",
         "$70,000 ",
         0,
         "Bachelors",
         "Professional",
         "Y",
         "MR. JULIO RUIZ"
        ],
        [
         11007,
         "MR.",
         "MARCO",
         "MEHTA",
         "1964-05-09",
         "M",
         "M",
         "marco14@adventure-works.com",
         "$60,000 ",
         3,
         "Bachelors",
         "Professional",
         "Y",
         "MR. MARCO MEHTA"
        ],
        [
         11008,
         "MRS.",
         "ROBIN",
         "VERHOFF",
         "1964-07-07",
         "S",
         "F",
         "rob4@adventure-works.com",
         "$60,000 ",
         4,
         "Bachelors",
         "Professional",
         "Y",
         "MRS. ROBIN VERHOFF"
        ],
        [
         11009,
         "MR.",
         "SHANNON",
         "CARLSON",
         "1964-04-01",
         "S",
         "M",
         "shannon38@adventure-works.com",
         "$70,000 ",
         0,
         "Bachelors",
         "Professional",
         "N",
         "MR. SHANNON CARLSON"
        ],
        [
         11010,
         "MS.",
         "JACQUELYN",
         "SUAREZ",
         "1964-02-06",
         "S",
         "F",
         "jacquelyn20@adventure-works.com",
         "$70,000 ",
         0,
         "Bachelors",
         "Professional",
         "N",
         "MS. JACQUELYN SUAREZ"
        ]
       ],
       "datasetInfos": [],
       "dbfsResultPath": null,
       "isJsonSchema": true,
       "metadata": {},
       "overflow": false,
       "plotOptions": {
        "customPlotOptions": {},
        "displayType": "table",
        "pivotAggregation": null,
        "pivotColumns": null,
        "xColumns": null,
        "yColumns": null
       },
       "removedWidgets": [],
       "schema": [
        {
         "metadata": "{}",
         "name": "CustomerKey",
         "type": "\"integer\""
        },
        {
         "metadata": "{}",
         "name": "Prefix",
         "type": "\"string\""
        },
        {
         "metadata": "{}",
         "name": "FirstName",
         "type": "\"string\""
        },
        {
         "metadata": "{}",
         "name": "LastName",
         "type": "\"string\""
        },
        {
         "metadata": "{\"__detected_date_formats\": \"M/d/yyyy\"}",
         "name": "BirthDate",
         "type": "\"date\""
        },
        {
         "metadata": "{}",
         "name": "MaritalStatus",
         "type": "\"string\""
        },
        {
         "metadata": "{}",
         "name": "Gender",
         "type": "\"string\""
        },
        {
         "metadata": "{}",
         "name": "EmailAddress",
         "type": "\"string\""
        },
        {
         "metadata": "{}",
         "name": "AnnualIncome",
         "type": "\"string\""
        },
        {
         "metadata": "{}",
         "name": "TotalChildren",
         "type": "\"integer\""
        },
        {
         "metadata": "{}",
         "name": "EducationLevel",
         "type": "\"string\""
        },
        {
         "metadata": "{}",
         "name": "Occupation",
         "type": "\"string\""
        },
        {
         "metadata": "{}",
         "name": "HomeOwner",
         "type": "\"string\""
        },
        {
         "metadata": "{}",
         "name": "FullName",
         "type": "\"string\""
        }
       ],
       "type": "table"
      }
     },
     "output_type": "display_data"
    }
   ],
   "source": [
    "df_cus.limit(10).display()"
   ]
  },
  {
   "cell_type": "code",
   "execution_count": 0,
   "metadata": {
    "application/vnd.databricks.v1+cell": {
     "cellMetadata": {
      "byteLimit": 2048000,
      "rowLimit": 10000
     },
     "inputWidgets": {},
     "nuid": "6af405ec-e69a-4d4f-ba4c-9ff96d350518",
     "showTitle": false,
     "tableResultSettingsMap": {},
     "title": ""
    }
   },
   "outputs": [],
   "source": [
    "df_cus.write.format('Parquet')\\\n",
    "                .mode('append')\\\n",
    "                .option(\"path\",\"abfss://silver@abhishekdatalake0.dfs.core.windows.net/AdventureWorks_Customers\")\\\n",
    "                .save()"
   ]
  },
  {
   "cell_type": "markdown",
   "metadata": {
    "application/vnd.databricks.v1+cell": {
     "cellMetadata": {},
     "inputWidgets": {},
     "nuid": "9dbd9e27-5bc5-4fdf-8335-3971defcba44",
     "showTitle": false,
     "tableResultSettingsMap": {},
     "title": ""
    }
   },
   "source": [
    "### 3. Product Categories"
   ]
  },
  {
   "cell_type": "code",
   "execution_count": 0,
   "metadata": {
    "application/vnd.databricks.v1+cell": {
     "cellMetadata": {
      "byteLimit": 2048000,
      "rowLimit": 10000
     },
     "inputWidgets": {},
     "nuid": "53c3685a-8d97-45c1-a547-4771b92c66ca",
     "showTitle": false,
     "tableResultSettingsMap": {},
     "title": ""
    }
   },
   "outputs": [
    {
     "output_type": "display_data",
     "data": {
      "text/html": [
       "<style scoped>\n",
       "  .table-result-container {\n",
       "    max-height: 300px;\n",
       "    overflow: auto;\n",
       "  }\n",
       "  table, th, td {\n",
       "    border: 1px solid black;\n",
       "    border-collapse: collapse;\n",
       "  }\n",
       "  th, td {\n",
       "    padding: 5px;\n",
       "  }\n",
       "  th {\n",
       "    text-align: left;\n",
       "  }\n",
       "</style><div class='table-result-container'><table class='table-result'><thead style='background-color: white'><tr><th>ProductCategoryKey</th><th>CategoryName</th></tr></thead><tbody><tr><td>1</td><td>Bikes</td></tr><tr><td>2</td><td>Components</td></tr><tr><td>3</td><td>Clothing</td></tr><tr><td>4</td><td>Accessories</td></tr></tbody></table></div>"
      ]
     },
     "metadata": {
      "application/vnd.databricks.v1+output": {
       "addedWidgets": {},
       "aggData": [],
       "aggError": "",
       "aggOverflow": false,
       "aggSchema": [],
       "aggSeriesLimitReached": false,
       "aggType": "",
       "arguments": {},
       "columnCustomDisplayInfos": {},
       "data": [
        [
         1,
         "Bikes"
        ],
        [
         2,
         "Components"
        ],
        [
         3,
         "Clothing"
        ],
        [
         4,
         "Accessories"
        ]
       ],
       "datasetInfos": [],
       "dbfsResultPath": null,
       "isJsonSchema": true,
       "metadata": {},
       "overflow": false,
       "plotOptions": {
        "customPlotOptions": {},
        "displayType": "table",
        "pivotAggregation": null,
        "pivotColumns": null,
        "xColumns": null,
        "yColumns": null
       },
       "removedWidgets": [],
       "schema": [
        {
         "metadata": "{}",
         "name": "ProductCategoryKey",
         "type": "\"integer\""
        },
        {
         "metadata": "{}",
         "name": "CategoryName",
         "type": "\"string\""
        }
       ],
       "type": "table"
      }
     },
     "output_type": "display_data"
    },
    {
     "output_type": "display_data",
     "data": {
      "text/plain": [
       "Databricks visualization. Run in Databricks to view."
      ]
     },
     "metadata": {
      "application/vnd.databricks.v1.subcommand+json": {
       "baseErrorDetails": null,
       "bindings": {},
       "collapsed": false,
       "command": "%python\n__backend_agg_display_orig = display\n__backend_agg_dfs = []\ndef __backend_agg_display_new(df):\n    __backend_agg_df_modules = [\"pandas.core.frame\", \"databricks.koalas.frame\", \"pyspark.sql.dataframe\", \"pyspark.pandas.frame\", \"pyspark.sql.connect.dataframe\"]\n    if (type(df).__module__ in __backend_agg_df_modules and type(df).__name__ == 'DataFrame') or isinstance(df, list):\n        __backend_agg_dfs.append(df)\n\ndisplay = __backend_agg_display_new\n\ndef __backend_agg_user_code_fn():\n    import base64\n    exec(base64.standard_b64decode(\"I2Rpc3BsYXkoZGZfcHJvY2F0KQ==\").decode())\n\ntry:\n    # run user code\n    __backend_agg_user_code_fn()\n\n    #reset display function\n    display = __backend_agg_display_orig\n\n    if len(__backend_agg_dfs) > 0:\n        # create a temp view\n        if type(__backend_agg_dfs[0]).__module__ == \"databricks.koalas.frame\":\n            # koalas dataframe\n            __backend_agg_dfs[0].to_spark().createOrReplaceTempView(\"DatabricksView91ce2f5\")\n        elif type(__backend_agg_dfs[0]).__module__ == \"pandas.core.frame\" or isinstance(__backend_agg_dfs[0], list):\n            # pandas dataframe\n            spark.createDataFrame(__backend_agg_dfs[0]).createOrReplaceTempView(\"DatabricksView91ce2f5\")\n        else:\n            __backend_agg_dfs[0].createOrReplaceTempView(\"DatabricksView91ce2f5\")\n        #run backend agg\n        display(spark.sql(\"\"\"WITH q AS (select * from DatabricksView91ce2f5) SELECT `CategoryName`,SUM(`ProductCategoryKey`) `column_e7cc6000275` FROM q GROUP BY `CategoryName`\"\"\"))\n    else:\n        displayHTML(\"dataframe no longer exists. If you're using dataframe.display(), use display(dataframe) instead.\")\n\n\nfinally:\n    spark.sql(\"drop view if exists DatabricksView91ce2f5\")\n    display = __backend_agg_display_orig\n    del __backend_agg_display_new\n    del __backend_agg_display_orig\n    del __backend_agg_dfs\n    del __backend_agg_user_code_fn\n\n",
       "commandTitle": "Visualization 1",
       "commandType": "auto",
       "commandVersion": 0,
       "commentThread": [],
       "commentsVisible": false,
       "contentSha256Hex": null,
       "customPlotOptions": {
        "redashChart": [
         {
          "key": "type",
          "value": "CHART"
         },
         {
          "key": "options",
          "value": {
           "alignYAxesAtZero": true,
           "coefficient": 1,
           "columnConfigurationMap": {
            "x": {
             "column": "CategoryName",
             "id": "column_e7cc6000274"
            },
            "y": [
             {
              "column": "ProductCategoryKey",
              "id": "column_e7cc6000275",
              "transform": "SUM"
             }
            ]
           },
           "dateTimeFormat": "DD/MM/YYYY HH:mm",
           "direction": {
            "type": "counterclockwise"
           },
           "error_y": {
            "type": "data",
            "visible": true
           },
           "globalSeriesType": "pie",
           "legend": {
            "traceorder": "normal"
           },
           "missingValuesAsZero": true,
           "numberFormat": "0,0.[00000]",
           "percentFormat": "0[.]00%",
           "series": {
            "error_y": {
             "type": "data",
             "visible": true
            },
            "stacking": null
           },
           "seriesOptions": {
            "column_e7cc6000275": {
             "name": "ProductCategoryKey",
             "type": "pie",
             "yAxis": 0
            }
           },
           "showDataLabels": true,
           "sizemode": "diameter",
           "sortX": true,
           "sortY": true,
           "swappedAxes": false,
           "textFormat": "",
           "useAggregationsUi": true,
           "valuesOptions": {},
           "version": 2,
           "xAxis": {
            "labels": {
             "enabled": true
            },
            "type": "-"
           },
           "yAxis": [
            {
             "type": "-"
            },
            {
             "opposite": true,
             "type": "-"
            }
           ]
          }
         }
        ]
       },
       "datasetPreviewNameToCmdIdMap": {},
       "diffDeletes": [],
       "diffInserts": [],
       "displayType": "redashChart",
       "error": null,
       "errorDetails": null,
       "errorSummary": null,
       "errorTraceType": null,
       "finishTime": 0,
       "globalVars": {},
       "guid": "",
       "height": "auto",
       "hideCommandCode": false,
       "hideCommandResult": false,
       "iPythonMetadata": null,
       "inputWidgets": {},
       "isLockedInExamMode": false,
       "latestUser": "a user",
       "latestUserId": null,
       "listResultMetadata": null,
       "metadata": {},
       "nuid": "3e03c186-1a7e-428d-add8-54ce66040ce2",
       "origId": 0,
       "parentHierarchy": [],
       "pivotAggregation": null,
       "pivotColumns": null,
       "position": 17.0,
       "resultDbfsErrorMessage": null,
       "resultDbfsStatus": "INLINED_IN_TREE",
       "results": null,
       "showCommandTitle": false,
       "startTime": 0,
       "state": "input",
       "streamStates": {},
       "subcommandOptions": {
        "queryPlan": {
         "groups": [
          {
           "column": "CategoryName",
           "type": "column"
          }
         ],
         "selects": [
          {
           "column": "CategoryName",
           "type": "column"
          },
          {
           "alias": "column_e7cc6000275",
           "args": [
            {
             "column": "ProductCategoryKey",
             "type": "column"
            }
           ],
           "function": "SUM",
           "type": "function"
          }
         ]
        }
       },
       "submitTime": 0,
       "subtype": "tableResultSubCmd.visualization",
       "tableResultIndex": 0,
       "tableResultSettingsMap": {},
       "useConsistentColors": false,
       "version": "CommandV1",
       "width": "auto",
       "workflows": [],
       "xColumns": null,
       "yColumns": null
      }
     },
     "output_type": "display_data"
    }
   ],
   "source": [
    "df_procat.display()"
   ]
  },
  {
   "cell_type": "code",
   "execution_count": 0,
   "metadata": {
    "application/vnd.databricks.v1+cell": {
     "cellMetadata": {
      "byteLimit": 2048000,
      "rowLimit": 10000
     },
     "inputWidgets": {},
     "nuid": "83d015a3-3d10-4508-9a83-06d66eacdbfe",
     "showTitle": false,
     "tableResultSettingsMap": {},
     "title": ""
    }
   },
   "outputs": [],
   "source": [
    "df_procat.write.format('Parquet')\\\n",
    "                    .mode('append')\\\n",
    "                    .option(\"path\",\"abfss://silver@abhishekdatalake0.dfs.core.windows.net/AdventureWorks_Product_Categories\")\\\n",
    "                    .save()"
   ]
  },
  {
   "cell_type": "markdown",
   "metadata": {
    "application/vnd.databricks.v1+cell": {
     "cellMetadata": {},
     "inputWidgets": {},
     "nuid": "082bd8e9-78f1-4a91-b0cb-558d55fcf1e1",
     "showTitle": false,
     "tableResultSettingsMap": {},
     "title": ""
    }
   },
   "source": [
    "### 4. Products"
   ]
  },
  {
   "cell_type": "code",
   "execution_count": 0,
   "metadata": {
    "application/vnd.databricks.v1+cell": {
     "cellMetadata": {
      "byteLimit": 2048000,
      "rowLimit": 10000
     },
     "inputWidgets": {},
     "nuid": "fc3fb747-f615-4334-886d-46ea54c152c7",
     "showTitle": false,
     "tableResultSettingsMap": {},
     "title": ""
    }
   },
   "outputs": [
    {
     "output_type": "display_data",
     "data": {
      "text/html": [
       "<style scoped>\n",
       "  .table-result-container {\n",
       "    max-height: 300px;\n",
       "    overflow: auto;\n",
       "  }\n",
       "  table, th, td {\n",
       "    border: 1px solid black;\n",
       "    border-collapse: collapse;\n",
       "  }\n",
       "  th, td {\n",
       "    padding: 5px;\n",
       "  }\n",
       "  th {\n",
       "    text-align: left;\n",
       "  }\n",
       "</style><div class='table-result-container'><table class='table-result'><thead style='background-color: white'><tr><th>ProductKey</th><th>ProductSubcategoryKey</th><th>ProductSKU</th><th>ProductName</th><th>ModelName</th><th>ProductDescription</th><th>ProductColor</th><th>ProductSize</th><th>ProductStyle</th><th>ProductCost</th><th>ProductPrice</th></tr></thead><tbody><tr><td>214</td><td>31</td><td>HL-U509-R</td><td>Sport-100 Helmet, Red</td><td>Sport-100</td><td>Universal fit, well-vented, lightweight , snap-on visor.</td><td>Red</td><td>0</td><td>0</td><td>13.0863</td><td>34.99</td></tr><tr><td>215</td><td>31</td><td>HL-U509</td><td>Sport-100 Helmet, Black</td><td>Sport-100</td><td>Universal fit, well-vented, lightweight , snap-on visor.</td><td>Black</td><td>0</td><td>0</td><td>12.0278</td><td>33.6442</td></tr><tr><td>218</td><td>23</td><td>SO-B909-M</td><td>Mountain Bike Socks, M</td><td>Mountain Bike Socks</td><td>Combination of natural and synthetic fibers stays dry and provides just the right cushioning.</td><td>White</td><td>M</td><td>U</td><td>3.3963</td><td>9.5</td></tr><tr><td>219</td><td>23</td><td>SO-B909-L</td><td>Mountain Bike Socks, L</td><td>Mountain Bike Socks</td><td>Combination of natural and synthetic fibers stays dry and provides just the right cushioning.</td><td>White</td><td>L</td><td>U</td><td>3.3963</td><td>9.5</td></tr><tr><td>220</td><td>31</td><td>HL-U509-B</td><td>Sport-100 Helmet, Blue</td><td>Sport-100</td><td>Universal fit, well-vented, lightweight , snap-on visor.</td><td>Blue</td><td>0</td><td>0</td><td>12.0278</td><td>33.6442</td></tr><tr><td>223</td><td>19</td><td>CA-1098</td><td>AWC Logo Cap</td><td>Cycling Cap</td><td>Traditional style with a flip-up brim; one-size fits all.</td><td>Multi</td><td>0</td><td>U</td><td>5.7052</td><td>8.6442</td></tr><tr><td>226</td><td>21</td><td>LJ-0192-S</td><td>Long-Sleeve Logo Jersey, S</td><td>Long-Sleeve Logo Jersey</td><td>Unisex long-sleeve AWC logo microfiber cycling jersey</td><td>Multi</td><td>S</td><td>U</td><td>31.7244</td><td>48.0673</td></tr><tr><td>229</td><td>21</td><td>LJ-0192-M</td><td>Long-Sleeve Logo Jersey, M</td><td>Long-Sleeve Logo Jersey</td><td>Unisex long-sleeve AWC logo microfiber cycling jersey</td><td>Multi</td><td>M</td><td>U</td><td>31.7244</td><td>48.0673</td></tr><tr><td>232</td><td>21</td><td>LJ-0192-L</td><td>Long-Sleeve Logo Jersey, L</td><td>Long-Sleeve Logo Jersey</td><td>Unisex long-sleeve AWC logo microfiber cycling jersey</td><td>Multi</td><td>L</td><td>U</td><td>31.7244</td><td>48.0673</td></tr><tr><td>235</td><td>21</td><td>LJ-0192-X</td><td>Long-Sleeve Logo Jersey, XL</td><td>Long-Sleeve Logo Jersey</td><td>Unisex long-sleeve AWC logo microfiber cycling jersey</td><td>Multi</td><td>XL</td><td>U</td><td>31.7244</td><td>48.0673</td></tr></tbody></table></div>"
      ]
     },
     "metadata": {
      "application/vnd.databricks.v1+output": {
       "addedWidgets": {},
       "aggData": [],
       "aggError": "",
       "aggOverflow": false,
       "aggSchema": [],
       "aggSeriesLimitReached": false,
       "aggType": "",
       "arguments": {},
       "columnCustomDisplayInfos": {},
       "data": [
        [
         214,
         31,
         "HL-U509-R",
         "Sport-100 Helmet, Red",
         "Sport-100",
         "Universal fit, well-vented, lightweight , snap-on visor.",
         "Red",
         "0",
         "0",
         13.0863,
         34.99
        ],
        [
         215,
         31,
         "HL-U509",
         "Sport-100 Helmet, Black",
         "Sport-100",
         "Universal fit, well-vented, lightweight , snap-on visor.",
         "Black",
         "0",
         "0",
         12.0278,
         33.6442
        ],
        [
         218,
         23,
         "SO-B909-M",
         "Mountain Bike Socks, M",
         "Mountain Bike Socks",
         "Combination of natural and synthetic fibers stays dry and provides just the right cushioning.",
         "White",
         "M",
         "U",
         3.3963,
         9.5
        ],
        [
         219,
         23,
         "SO-B909-L",
         "Mountain Bike Socks, L",
         "Mountain Bike Socks",
         "Combination of natural and synthetic fibers stays dry and provides just the right cushioning.",
         "White",
         "L",
         "U",
         3.3963,
         9.5
        ],
        [
         220,
         31,
         "HL-U509-B",
         "Sport-100 Helmet, Blue",
         "Sport-100",
         "Universal fit, well-vented, lightweight , snap-on visor.",
         "Blue",
         "0",
         "0",
         12.0278,
         33.6442
        ],
        [
         223,
         19,
         "CA-1098",
         "AWC Logo Cap",
         "Cycling Cap",
         "Traditional style with a flip-up brim; one-size fits all.",
         "Multi",
         "0",
         "U",
         5.7052,
         8.6442
        ],
        [
         226,
         21,
         "LJ-0192-S",
         "Long-Sleeve Logo Jersey, S",
         "Long-Sleeve Logo Jersey",
         "Unisex long-sleeve AWC logo microfiber cycling jersey",
         "Multi",
         "S",
         "U",
         31.7244,
         48.0673
        ],
        [
         229,
         21,
         "LJ-0192-M",
         "Long-Sleeve Logo Jersey, M",
         "Long-Sleeve Logo Jersey",
         "Unisex long-sleeve AWC logo microfiber cycling jersey",
         "Multi",
         "M",
         "U",
         31.7244,
         48.0673
        ],
        [
         232,
         21,
         "LJ-0192-L",
         "Long-Sleeve Logo Jersey, L",
         "Long-Sleeve Logo Jersey",
         "Unisex long-sleeve AWC logo microfiber cycling jersey",
         "Multi",
         "L",
         "U",
         31.7244,
         48.0673
        ],
        [
         235,
         21,
         "LJ-0192-X",
         "Long-Sleeve Logo Jersey, XL",
         "Long-Sleeve Logo Jersey",
         "Unisex long-sleeve AWC logo microfiber cycling jersey",
         "Multi",
         "XL",
         "U",
         31.7244,
         48.0673
        ]
       ],
       "datasetInfos": [],
       "dbfsResultPath": null,
       "isJsonSchema": true,
       "metadata": {},
       "overflow": false,
       "plotOptions": {
        "customPlotOptions": {},
        "displayType": "table",
        "pivotAggregation": null,
        "pivotColumns": null,
        "xColumns": null,
        "yColumns": null
       },
       "removedWidgets": [],
       "schema": [
        {
         "metadata": "{}",
         "name": "ProductKey",
         "type": "\"integer\""
        },
        {
         "metadata": "{}",
         "name": "ProductSubcategoryKey",
         "type": "\"integer\""
        },
        {
         "metadata": "{}",
         "name": "ProductSKU",
         "type": "\"string\""
        },
        {
         "metadata": "{}",
         "name": "ProductName",
         "type": "\"string\""
        },
        {
         "metadata": "{}",
         "name": "ModelName",
         "type": "\"string\""
        },
        {
         "metadata": "{}",
         "name": "ProductDescription",
         "type": "\"string\""
        },
        {
         "metadata": "{}",
         "name": "ProductColor",
         "type": "\"string\""
        },
        {
         "metadata": "{}",
         "name": "ProductSize",
         "type": "\"string\""
        },
        {
         "metadata": "{}",
         "name": "ProductStyle",
         "type": "\"string\""
        },
        {
         "metadata": "{}",
         "name": "ProductCost",
         "type": "\"double\""
        },
        {
         "metadata": "{}",
         "name": "ProductPrice",
         "type": "\"double\""
        }
       ],
       "type": "table"
      }
     },
     "output_type": "display_data"
    }
   ],
   "source": [
    "df_pro.limit(10).display()"
   ]
  },
  {
   "cell_type": "markdown",
   "metadata": {
    "application/vnd.databricks.v1+cell": {
     "cellMetadata": {},
     "inputWidgets": {},
     "nuid": "f2d190bb-c11b-46dc-9472-1cf583708372",
     "showTitle": false,
     "tableResultSettingsMap": {},
     "title": ""
    }
   },
   "source": [
    "split col data"
   ]
  },
  {
   "cell_type": "code",
   "execution_count": 0,
   "metadata": {
    "application/vnd.databricks.v1+cell": {
     "cellMetadata": {
      "byteLimit": 2048000,
      "rowLimit": 10000
     },
     "inputWidgets": {},
     "nuid": "aba1d2fd-6b38-4b04-bd84-cd93e2d663ea",
     "showTitle": false,
     "tableResultSettingsMap": {},
     "title": ""
    }
   },
   "outputs": [],
   "source": [
    "df_pro = df_pro.withColumn('ProductSKU',split(col('ProductSKU'),'-')[0])\\\n",
    "                .withColumn('ProductName',split(col('ProductName'),' ')[0])"
   ]
  },
  {
   "cell_type": "code",
   "execution_count": 0,
   "metadata": {
    "application/vnd.databricks.v1+cell": {
     "cellMetadata": {
      "byteLimit": 2048000,
      "rowLimit": 10000
     },
     "inputWidgets": {},
     "nuid": "ef74606d-2b09-4c20-9aee-d74dddc615ce",
     "showTitle": false,
     "tableResultSettingsMap": {},
     "title": ""
    }
   },
   "outputs": [
    {
     "output_type": "display_data",
     "data": {
      "text/html": [
       "<style scoped>\n",
       "  .table-result-container {\n",
       "    max-height: 300px;\n",
       "    overflow: auto;\n",
       "  }\n",
       "  table, th, td {\n",
       "    border: 1px solid black;\n",
       "    border-collapse: collapse;\n",
       "  }\n",
       "  th, td {\n",
       "    padding: 5px;\n",
       "  }\n",
       "  th {\n",
       "    text-align: left;\n",
       "  }\n",
       "</style><div class='table-result-container'><table class='table-result'><thead style='background-color: white'><tr><th>ProductKey</th><th>ProductSubcategoryKey</th><th>ProductSKU</th><th>ProductName</th><th>ModelName</th><th>ProductDescription</th><th>ProductColor</th><th>ProductSize</th><th>ProductStyle</th><th>ProductCost</th><th>ProductPrice</th></tr></thead><tbody><tr><td>214</td><td>31</td><td>HL</td><td>Sport-100</td><td>Sport-100</td><td>Universal fit, well-vented, lightweight , snap-on visor.</td><td>Red</td><td>0</td><td>0</td><td>13.0863</td><td>34.99</td></tr><tr><td>215</td><td>31</td><td>HL</td><td>Sport-100</td><td>Sport-100</td><td>Universal fit, well-vented, lightweight , snap-on visor.</td><td>Black</td><td>0</td><td>0</td><td>12.0278</td><td>33.6442</td></tr><tr><td>218</td><td>23</td><td>SO</td><td>Mountain</td><td>Mountain Bike Socks</td><td>Combination of natural and synthetic fibers stays dry and provides just the right cushioning.</td><td>White</td><td>M</td><td>U</td><td>3.3963</td><td>9.5</td></tr><tr><td>219</td><td>23</td><td>SO</td><td>Mountain</td><td>Mountain Bike Socks</td><td>Combination of natural and synthetic fibers stays dry and provides just the right cushioning.</td><td>White</td><td>L</td><td>U</td><td>3.3963</td><td>9.5</td></tr><tr><td>220</td><td>31</td><td>HL</td><td>Sport-100</td><td>Sport-100</td><td>Universal fit, well-vented, lightweight , snap-on visor.</td><td>Blue</td><td>0</td><td>0</td><td>12.0278</td><td>33.6442</td></tr><tr><td>223</td><td>19</td><td>CA</td><td>AWC</td><td>Cycling Cap</td><td>Traditional style with a flip-up brim; one-size fits all.</td><td>Multi</td><td>0</td><td>U</td><td>5.7052</td><td>8.6442</td></tr><tr><td>226</td><td>21</td><td>LJ</td><td>Long-Sleeve</td><td>Long-Sleeve Logo Jersey</td><td>Unisex long-sleeve AWC logo microfiber cycling jersey</td><td>Multi</td><td>S</td><td>U</td><td>31.7244</td><td>48.0673</td></tr><tr><td>229</td><td>21</td><td>LJ</td><td>Long-Sleeve</td><td>Long-Sleeve Logo Jersey</td><td>Unisex long-sleeve AWC logo microfiber cycling jersey</td><td>Multi</td><td>M</td><td>U</td><td>31.7244</td><td>48.0673</td></tr><tr><td>232</td><td>21</td><td>LJ</td><td>Long-Sleeve</td><td>Long-Sleeve Logo Jersey</td><td>Unisex long-sleeve AWC logo microfiber cycling jersey</td><td>Multi</td><td>L</td><td>U</td><td>31.7244</td><td>48.0673</td></tr><tr><td>235</td><td>21</td><td>LJ</td><td>Long-Sleeve</td><td>Long-Sleeve Logo Jersey</td><td>Unisex long-sleeve AWC logo microfiber cycling jersey</td><td>Multi</td><td>XL</td><td>U</td><td>31.7244</td><td>48.0673</td></tr></tbody></table></div>"
      ]
     },
     "metadata": {
      "application/vnd.databricks.v1+output": {
       "addedWidgets": {},
       "aggData": [],
       "aggError": "",
       "aggOverflow": false,
       "aggSchema": [],
       "aggSeriesLimitReached": false,
       "aggType": "",
       "arguments": {},
       "columnCustomDisplayInfos": {},
       "data": [
        [
         214,
         31,
         "HL",
         "Sport-100",
         "Sport-100",
         "Universal fit, well-vented, lightweight , snap-on visor.",
         "Red",
         "0",
         "0",
         13.0863,
         34.99
        ],
        [
         215,
         31,
         "HL",
         "Sport-100",
         "Sport-100",
         "Universal fit, well-vented, lightweight , snap-on visor.",
         "Black",
         "0",
         "0",
         12.0278,
         33.6442
        ],
        [
         218,
         23,
         "SO",
         "Mountain",
         "Mountain Bike Socks",
         "Combination of natural and synthetic fibers stays dry and provides just the right cushioning.",
         "White",
         "M",
         "U",
         3.3963,
         9.5
        ],
        [
         219,
         23,
         "SO",
         "Mountain",
         "Mountain Bike Socks",
         "Combination of natural and synthetic fibers stays dry and provides just the right cushioning.",
         "White",
         "L",
         "U",
         3.3963,
         9.5
        ],
        [
         220,
         31,
         "HL",
         "Sport-100",
         "Sport-100",
         "Universal fit, well-vented, lightweight , snap-on visor.",
         "Blue",
         "0",
         "0",
         12.0278,
         33.6442
        ],
        [
         223,
         19,
         "CA",
         "AWC",
         "Cycling Cap",
         "Traditional style with a flip-up brim; one-size fits all.",
         "Multi",
         "0",
         "U",
         5.7052,
         8.6442
        ],
        [
         226,
         21,
         "LJ",
         "Long-Sleeve",
         "Long-Sleeve Logo Jersey",
         "Unisex long-sleeve AWC logo microfiber cycling jersey",
         "Multi",
         "S",
         "U",
         31.7244,
         48.0673
        ],
        [
         229,
         21,
         "LJ",
         "Long-Sleeve",
         "Long-Sleeve Logo Jersey",
         "Unisex long-sleeve AWC logo microfiber cycling jersey",
         "Multi",
         "M",
         "U",
         31.7244,
         48.0673
        ],
        [
         232,
         21,
         "LJ",
         "Long-Sleeve",
         "Long-Sleeve Logo Jersey",
         "Unisex long-sleeve AWC logo microfiber cycling jersey",
         "Multi",
         "L",
         "U",
         31.7244,
         48.0673
        ],
        [
         235,
         21,
         "LJ",
         "Long-Sleeve",
         "Long-Sleeve Logo Jersey",
         "Unisex long-sleeve AWC logo microfiber cycling jersey",
         "Multi",
         "XL",
         "U",
         31.7244,
         48.0673
        ]
       ],
       "datasetInfos": [],
       "dbfsResultPath": null,
       "isJsonSchema": true,
       "metadata": {},
       "overflow": false,
       "plotOptions": {
        "customPlotOptions": {},
        "displayType": "table",
        "pivotAggregation": null,
        "pivotColumns": null,
        "xColumns": null,
        "yColumns": null
       },
       "removedWidgets": [],
       "schema": [
        {
         "metadata": "{}",
         "name": "ProductKey",
         "type": "\"integer\""
        },
        {
         "metadata": "{}",
         "name": "ProductSubcategoryKey",
         "type": "\"integer\""
        },
        {
         "metadata": "{}",
         "name": "ProductSKU",
         "type": "\"string\""
        },
        {
         "metadata": "{}",
         "name": "ProductName",
         "type": "\"string\""
        },
        {
         "metadata": "{}",
         "name": "ModelName",
         "type": "\"string\""
        },
        {
         "metadata": "{}",
         "name": "ProductDescription",
         "type": "\"string\""
        },
        {
         "metadata": "{}",
         "name": "ProductColor",
         "type": "\"string\""
        },
        {
         "metadata": "{}",
         "name": "ProductSize",
         "type": "\"string\""
        },
        {
         "metadata": "{}",
         "name": "ProductStyle",
         "type": "\"string\""
        },
        {
         "metadata": "{}",
         "name": "ProductCost",
         "type": "\"double\""
        },
        {
         "metadata": "{}",
         "name": "ProductPrice",
         "type": "\"double\""
        }
       ],
       "type": "table"
      }
     },
     "output_type": "display_data"
    }
   ],
   "source": [
    "df_pro.limit(10).display()"
   ]
  },
  {
   "cell_type": "code",
   "execution_count": 0,
   "metadata": {
    "application/vnd.databricks.v1+cell": {
     "cellMetadata": {
      "byteLimit": 2048000,
      "rowLimit": 10000
     },
     "inputWidgets": {},
     "nuid": "fd4c0662-f4c3-4328-87b4-31025589c8c1",
     "showTitle": false,
     "tableResultSettingsMap": {},
     "title": ""
    }
   },
   "outputs": [],
   "source": [
    "df_pro.write.format('Parquet')\\\n",
    "                .mode('append')\\\n",
    "                .option(\"path\",\"abfss://silver@abhishekdatalake0.dfs.core.windows.net/AdventureWorks_Products\")\\\n",
    "                .save()"
   ]
  },
  {
   "cell_type": "markdown",
   "metadata": {
    "application/vnd.databricks.v1+cell": {
     "cellMetadata": {},
     "inputWidgets": {},
     "nuid": "473ce82e-2e50-4580-a541-39ba730c06ff",
     "showTitle": false,
     "tableResultSettingsMap": {},
     "title": ""
    }
   },
   "source": [
    "### 5. Returns"
   ]
  },
  {
   "cell_type": "code",
   "execution_count": 0,
   "metadata": {
    "application/vnd.databricks.v1+cell": {
     "cellMetadata": {
      "byteLimit": 2048000,
      "rowLimit": 10000
     },
     "inputWidgets": {},
     "nuid": "568e119a-2f27-4aca-b53e-9756cf19de16",
     "showTitle": false,
     "tableResultSettingsMap": {},
     "title": ""
    }
   },
   "outputs": [
    {
     "output_type": "display_data",
     "data": {
      "text/html": [
       "<style scoped>\n",
       "  .table-result-container {\n",
       "    max-height: 300px;\n",
       "    overflow: auto;\n",
       "  }\n",
       "  table, th, td {\n",
       "    border: 1px solid black;\n",
       "    border-collapse: collapse;\n",
       "  }\n",
       "  th, td {\n",
       "    padding: 5px;\n",
       "  }\n",
       "  th {\n",
       "    text-align: left;\n",
       "  }\n",
       "</style><div class='table-result-container'><table class='table-result'><thead style='background-color: white'><tr><th>ReturnDate</th><th>TerritoryKey</th><th>ProductKey</th><th>ReturnQuantity</th></tr></thead><tbody><tr><td>2015-01-18</td><td>9</td><td>312</td><td>1</td></tr><tr><td>2015-01-18</td><td>10</td><td>310</td><td>1</td></tr><tr><td>2015-01-21</td><td>8</td><td>346</td><td>1</td></tr><tr><td>2015-01-22</td><td>4</td><td>311</td><td>1</td></tr><tr><td>2015-02-02</td><td>6</td><td>312</td><td>1</td></tr><tr><td>2015-02-15</td><td>1</td><td>312</td><td>1</td></tr><tr><td>2015-02-19</td><td>9</td><td>311</td><td>1</td></tr><tr><td>2015-02-24</td><td>8</td><td>314</td><td>1</td></tr><tr><td>2015-03-08</td><td>8</td><td>350</td><td>1</td></tr><tr><td>2015-03-13</td><td>9</td><td>350</td><td>1</td></tr></tbody></table></div>"
      ]
     },
     "metadata": {
      "application/vnd.databricks.v1+output": {
       "addedWidgets": {},
       "aggData": [],
       "aggError": "",
       "aggOverflow": false,
       "aggSchema": [],
       "aggSeriesLimitReached": false,
       "aggType": "",
       "arguments": {},
       "columnCustomDisplayInfos": {},
       "data": [
        [
         "2015-01-18",
         9,
         312,
         1
        ],
        [
         "2015-01-18",
         10,
         310,
         1
        ],
        [
         "2015-01-21",
         8,
         346,
         1
        ],
        [
         "2015-01-22",
         4,
         311,
         1
        ],
        [
         "2015-02-02",
         6,
         312,
         1
        ],
        [
         "2015-02-15",
         1,
         312,
         1
        ],
        [
         "2015-02-19",
         9,
         311,
         1
        ],
        [
         "2015-02-24",
         8,
         314,
         1
        ],
        [
         "2015-03-08",
         8,
         350,
         1
        ],
        [
         "2015-03-13",
         9,
         350,
         1
        ]
       ],
       "datasetInfos": [],
       "dbfsResultPath": null,
       "isJsonSchema": true,
       "metadata": {},
       "overflow": false,
       "plotOptions": {
        "customPlotOptions": {},
        "displayType": "table",
        "pivotAggregation": null,
        "pivotColumns": null,
        "xColumns": null,
        "yColumns": null
       },
       "removedWidgets": [],
       "schema": [
        {
         "metadata": "{\"__detected_date_formats\": \"M/d/yyyy\"}",
         "name": "ReturnDate",
         "type": "\"date\""
        },
        {
         "metadata": "{}",
         "name": "TerritoryKey",
         "type": "\"integer\""
        },
        {
         "metadata": "{}",
         "name": "ProductKey",
         "type": "\"integer\""
        },
        {
         "metadata": "{}",
         "name": "ReturnQuantity",
         "type": "\"integer\""
        }
       ],
       "type": "table"
      }
     },
     "output_type": "display_data"
    }
   ],
   "source": [
    "df_ret.limit(10).display()"
   ]
  },
  {
   "cell_type": "code",
   "execution_count": 0,
   "metadata": {
    "application/vnd.databricks.v1+cell": {
     "cellMetadata": {
      "byteLimit": 2048000,
      "rowLimit": 10000
     },
     "inputWidgets": {},
     "nuid": "21259cdb-9433-4daf-876e-b8dc421f2c9e",
     "showTitle": false,
     "tableResultSettingsMap": {},
     "title": ""
    }
   },
   "outputs": [],
   "source": [
    "df_ret.write.format('Parquet')\\\n",
    "                .mode('append')\\\n",
    "                .option(\"path\",\"abfss://silver@abhishekdatalake0.dfs.core.windows.net/AdventureWorks_Returns\")\\\n",
    "                .save()"
   ]
  },
  {
   "cell_type": "markdown",
   "metadata": {
    "application/vnd.databricks.v1+cell": {
     "cellMetadata": {},
     "inputWidgets": {},
     "nuid": "79af213d-3d88-4728-bc0f-96d764deaf8b",
     "showTitle": false,
     "tableResultSettingsMap": {},
     "title": ""
    }
   },
   "source": [
    "### 6. Sales"
   ]
  },
  {
   "cell_type": "code",
   "execution_count": 0,
   "metadata": {
    "application/vnd.databricks.v1+cell": {
     "cellMetadata": {
      "byteLimit": 2048000,
      "rowLimit": 10000
     },
     "inputWidgets": {},
     "nuid": "99b63833-64bb-49ea-9841-7e294c963a9a",
     "showTitle": false,
     "tableResultSettingsMap": {},
     "title": ""
    }
   },
   "outputs": [
    {
     "output_type": "display_data",
     "data": {
      "text/html": [
       "<style scoped>\n",
       "  .table-result-container {\n",
       "    max-height: 300px;\n",
       "    overflow: auto;\n",
       "  }\n",
       "  table, th, td {\n",
       "    border: 1px solid black;\n",
       "    border-collapse: collapse;\n",
       "  }\n",
       "  th, td {\n",
       "    padding: 5px;\n",
       "  }\n",
       "  th {\n",
       "    text-align: left;\n",
       "  }\n",
       "</style><div class='table-result-container'><table class='table-result'><thead style='background-color: white'><tr><th>OrderDate</th><th>StockDate</th><th>OrderNumber</th><th>ProductKey</th><th>CustomerKey</th><th>TerritoryKey</th><th>OrderLineItem</th><th>OrderQuantity</th></tr></thead><tbody><tr><td>2016-01-01</td><td>2002-10-17</td><td>SO48797</td><td>385</td><td>14335</td><td>1</td><td>1</td><td>1</td></tr><tr><td>2016-01-01</td><td>2002-09-30</td><td>SO48802</td><td>383</td><td>24923</td><td>9</td><td>1</td><td>1</td></tr><tr><td>2016-01-01</td><td>2002-11-29</td><td>SO48801</td><td>326</td><td>15493</td><td>1</td><td>1</td><td>1</td></tr><tr><td>2016-01-01</td><td>2002-11-16</td><td>SO48799</td><td>352</td><td>26708</td><td>4</td><td>1</td><td>1</td></tr><tr><td>2016-01-01</td><td>2002-12-16</td><td>SO48798</td><td>369</td><td>23332</td><td>9</td><td>1</td><td>1</td></tr><tr><td>2016-01-01</td><td>2002-12-02</td><td>SO48800</td><td>342</td><td>15491</td><td>5</td><td>1</td><td>1</td></tr><tr><td>2016-01-01</td><td>2002-10-19</td><td>SO48795</td><td>375</td><td>16538</td><td>8</td><td>1</td><td>1</td></tr><tr><td>2016-01-01</td><td>2002-11-23</td><td>SO48796</td><td>375</td><td>15094</td><td>7</td><td>1</td><td>1</td></tr><tr><td>2016-01-02</td><td>2002-12-01</td><td>SO48804</td><td>356</td><td>12276</td><td>8</td><td>1</td><td>1</td></tr><tr><td>2016-01-02</td><td>2002-09-12</td><td>SO48814</td><td>360</td><td>13647</td><td>9</td><td>1</td><td>1</td></tr></tbody></table></div>"
      ]
     },
     "metadata": {
      "application/vnd.databricks.v1+output": {
       "addedWidgets": {},
       "aggData": [],
       "aggError": "",
       "aggOverflow": false,
       "aggSchema": [],
       "aggSeriesLimitReached": false,
       "aggType": "",
       "arguments": {},
       "columnCustomDisplayInfos": {},
       "data": [
        [
         "2016-01-01",
         "2002-10-17",
         "SO48797",
         385,
         14335,
         1,
         1,
         1
        ],
        [
         "2016-01-01",
         "2002-09-30",
         "SO48802",
         383,
         24923,
         9,
         1,
         1
        ],
        [
         "2016-01-01",
         "2002-11-29",
         "SO48801",
         326,
         15493,
         1,
         1,
         1
        ],
        [
         "2016-01-01",
         "2002-11-16",
         "SO48799",
         352,
         26708,
         4,
         1,
         1
        ],
        [
         "2016-01-01",
         "2002-12-16",
         "SO48798",
         369,
         23332,
         9,
         1,
         1
        ],
        [
         "2016-01-01",
         "2002-12-02",
         "SO48800",
         342,
         15491,
         5,
         1,
         1
        ],
        [
         "2016-01-01",
         "2002-10-19",
         "SO48795",
         375,
         16538,
         8,
         1,
         1
        ],
        [
         "2016-01-01",
         "2002-11-23",
         "SO48796",
         375,
         15094,
         7,
         1,
         1
        ],
        [
         "2016-01-02",
         "2002-12-01",
         "SO48804",
         356,
         12276,
         8,
         1,
         1
        ],
        [
         "2016-01-02",
         "2002-09-12",
         "SO48814",
         360,
         13647,
         9,
         1,
         1
        ]
       ],
       "datasetInfos": [],
       "dbfsResultPath": null,
       "isJsonSchema": true,
       "metadata": {},
       "overflow": false,
       "plotOptions": {
        "customPlotOptions": {},
        "displayType": "table",
        "pivotAggregation": null,
        "pivotColumns": null,
        "xColumns": null,
        "yColumns": null
       },
       "removedWidgets": [],
       "schema": [
        {
         "metadata": "{\"__detected_date_formats\": \"M/d/yyyy\"}",
         "name": "OrderDate",
         "type": "\"date\""
        },
        {
         "metadata": "{\"__detected_date_formats\": \"M/d/yyyy\"}",
         "name": "StockDate",
         "type": "\"date\""
        },
        {
         "metadata": "{}",
         "name": "OrderNumber",
         "type": "\"string\""
        },
        {
         "metadata": "{}",
         "name": "ProductKey",
         "type": "\"integer\""
        },
        {
         "metadata": "{}",
         "name": "CustomerKey",
         "type": "\"integer\""
        },
        {
         "metadata": "{}",
         "name": "TerritoryKey",
         "type": "\"integer\""
        },
        {
         "metadata": "{}",
         "name": "OrderLineItem",
         "type": "\"integer\""
        },
        {
         "metadata": "{}",
         "name": "OrderQuantity",
         "type": "\"integer\""
        }
       ],
       "type": "table"
      }
     },
     "output_type": "display_data"
    }
   ],
   "source": [
    "df_sal.limit(10).display()"
   ]
  },
  {
   "cell_type": "markdown",
   "metadata": {
    "application/vnd.databricks.v1+cell": {
     "cellMetadata": {},
     "inputWidgets": {},
     "nuid": "42d0139b-9164-4697-b94a-dd0b26839ceb",
     "showTitle": false,
     "tableResultSettingsMap": {},
     "title": ""
    }
   },
   "source": [
    "- change StockDate to timestamp\n",
    "- replace 'S' with 'T' in OrderNumer column\n",
    "- multiply two column values"
   ]
  },
  {
   "cell_type": "code",
   "execution_count": 0,
   "metadata": {
    "application/vnd.databricks.v1+cell": {
     "cellMetadata": {
      "byteLimit": 2048000,
      "rowLimit": 10000
     },
     "inputWidgets": {},
     "nuid": "479a8e26-74ee-4811-8b25-3e2857341e91",
     "showTitle": false,
     "tableResultSettingsMap": {},
     "title": ""
    }
   },
   "outputs": [],
   "source": [
    "df_sal = df_sal.withColumn('StockDate',to_timestamp('StockDate'))\\\n",
    "                .withColumn('OrderNumber',regexp_replace(col('OrderNumber'),'S','T'))\\\n",
    "                .withColumn('multiply',col('OrderLineItem')*col('OrderQuantity'))"
   ]
  },
  {
   "cell_type": "markdown",
   "metadata": {
    "application/vnd.databricks.v1+cell": {
     "cellMetadata": {},
     "inputWidgets": {},
     "nuid": "b4ecd3d1-c33d-4f5d-b7cc-f21814283f57",
     "showTitle": false,
     "tableResultSettingsMap": {},
     "title": ""
    }
   },
   "source": [
    "groupBy OrderDate to find count of orders per day"
   ]
  },
  {
   "cell_type": "code",
   "execution_count": 0,
   "metadata": {
    "application/vnd.databricks.v1+cell": {
     "cellMetadata": {
      "byteLimit": 2048000,
      "rowLimit": 10000
     },
     "inputWidgets": {},
     "nuid": "d8fc7831-b7f1-458e-9515-df43ce2e3ec3",
     "showTitle": false,
     "tableResultSettingsMap": {},
     "title": ""
    }
   },
   "outputs": [
    {
     "output_type": "display_data",
     "data": {
      "text/html": [
       "<style scoped>\n",
       "  .table-result-container {\n",
       "    max-height: 300px;\n",
       "    overflow: auto;\n",
       "  }\n",
       "  table, th, td {\n",
       "    border: 1px solid black;\n",
       "    border-collapse: collapse;\n",
       "  }\n",
       "  th, td {\n",
       "    padding: 5px;\n",
       "  }\n",
       "  th {\n",
       "    text-align: left;\n",
       "  }\n",
       "</style><div class='table-result-container'><table class='table-result'><thead style='background-color: white'><tr><th>OrderDate</th><th>count(OrderNumber)</th></tr></thead><tbody><tr><td>2016-12-14</td><td>150</td></tr><tr><td>2016-11-06</td><td>125</td></tr><tr><td>2016-05-24</td><td>15</td></tr><tr><td>2016-01-23</td><td>14</td></tr><tr><td>2016-01-22</td><td>10</td></tr><tr><td>2016-02-05</td><td>8</td></tr><tr><td>2016-11-14</td><td>152</td></tr><tr><td>2016-08-06</td><td>106</td></tr><tr><td>2016-09-03</td><td>115</td></tr><tr><td>2016-11-23</td><td>116</td></tr><tr><td>2016-10-18</td><td>140</td></tr><tr><td>2016-08-29</td><td>147</td></tr><tr><td>2016-09-02</td><td>140</td></tr><tr><td>2016-09-10</td><td>118</td></tr><tr><td>2016-11-09</td><td>125</td></tr><tr><td>2016-11-27</td><td>152</td></tr><tr><td>2016-12-19</td><td>169</td></tr><tr><td>2016-05-25</td><td>7</td></tr><tr><td>2016-09-29</td><td>81</td></tr><tr><td>2016-04-07</td><td>11</td></tr><tr><td>2016-07-23</td><td>34</td></tr><tr><td>2016-09-30</td><td>126</td></tr><tr><td>2016-10-16</td><td>89</td></tr><tr><td>2016-08-10</td><td>88</td></tr><tr><td>2016-11-30</td><td>152</td></tr><tr><td>2016-06-29</td><td>7</td></tr><tr><td>2016-07-06</td><td>24</td></tr><tr><td>2016-11-25</td><td>104</td></tr><tr><td>2016-06-09</td><td>6</td></tr><tr><td>2016-12-09</td><td>148</td></tr><tr><td>2016-04-18</td><td>11</td></tr><tr><td>2016-04-15</td><td>9</td></tr><tr><td>2016-07-11</td><td>69</td></tr><tr><td>2016-02-17</td><td>12</td></tr><tr><td>2016-01-24</td><td>7</td></tr><tr><td>2016-10-02</td><td>157</td></tr><tr><td>2016-11-16</td><td>117</td></tr><tr><td>2016-01-25</td><td>4</td></tr><tr><td>2016-01-01</td><td>8</td></tr><tr><td>2016-07-14</td><td>39</td></tr><tr><td>2016-08-05</td><td>90</td></tr><tr><td>2016-04-22</td><td>6</td></tr><tr><td>2016-02-10</td><td>5</td></tr><tr><td>2016-11-11</td><td>85</td></tr><tr><td>2016-03-31</td><td>10</td></tr><tr><td>2016-12-15</td><td>194</td></tr><tr><td>2016-07-25</td><td>39</td></tr><tr><td>2016-12-17</td><td>165</td></tr><tr><td>2016-01-08</td><td>10</td></tr><tr><td>2016-12-11</td><td>178</td></tr><tr><td>2016-07-17</td><td>39</td></tr><tr><td>2016-09-27</td><td>145</td></tr><tr><td>2016-02-15</td><td>11</td></tr><tr><td>2016-06-21</td><td>15</td></tr><tr><td>2016-05-27</td><td>10</td></tr><tr><td>2016-10-25</td><td>124</td></tr><tr><td>2016-01-05</td><td>7</td></tr><tr><td>2016-03-07</td><td>9</td></tr><tr><td>2016-04-08</td><td>13</td></tr><tr><td>2016-10-20</td><td>126</td></tr><tr><td>2016-11-28</td><td>153</td></tr><tr><td>2016-11-08</td><td>101</td></tr><tr><td>2016-09-24</td><td>107</td></tr><tr><td>2016-02-20</td><td>10</td></tr><tr><td>2016-07-09</td><td>58</td></tr><tr><td>2016-06-17</td><td>9</td></tr><tr><td>2016-04-24</td><td>14</td></tr><tr><td>2016-09-01</td><td>83</td></tr><tr><td>2016-03-12</td><td>19</td></tr><tr><td>2016-09-14</td><td>129</td></tr><tr><td>2016-07-07</td><td>45</td></tr><tr><td>2016-05-13</td><td>9</td></tr><tr><td>2016-07-08</td><td>38</td></tr><tr><td>2016-01-10</td><td>10</td></tr><tr><td>2016-02-04</td><td>17</td></tr><tr><td>2016-07-24</td><td>85</td></tr><tr><td>2016-08-30</td><td>131</td></tr><tr><td>2016-12-24</td><td>170</td></tr><tr><td>2016-03-11</td><td>8</td></tr><tr><td>2016-03-03</td><td>6</td></tr><tr><td>2016-11-01</td><td>119</td></tr><tr><td>2016-03-01</td><td>8</td></tr><tr><td>2016-01-20</td><td>7</td></tr><tr><td>2016-10-24</td><td>101</td></tr><tr><td>2016-11-20</td><td>87</td></tr><tr><td>2016-09-25</td><td>100</td></tr><tr><td>2016-07-26</td><td>44</td></tr><tr><td>2016-05-29</td><td>8</td></tr><tr><td>2016-03-05</td><td>17</td></tr><tr><td>2016-06-04</td><td>8</td></tr><tr><td>2016-05-20</td><td>9</td></tr><tr><td>2016-10-07</td><td>118</td></tr><tr><td>2016-04-12</td><td>7</td></tr><tr><td>2016-01-29</td><td>8</td></tr><tr><td>2016-10-01</td><td>127</td></tr><tr><td>2016-02-28</td><td>8</td></tr><tr><td>2016-02-09</td><td>10</td></tr><tr><td>2016-02-12</td><td>10</td></tr><tr><td>2016-05-26</td><td>10</td></tr><tr><td>2016-06-19</td><td>13</td></tr><tr><td>2016-12-05</td><td>167</td></tr><tr><td>2016-11-26</td><td>136</td></tr><tr><td>2016-12-18</td><td>182</td></tr><tr><td>2016-10-29</td><td>109</td></tr><tr><td>2016-05-31</td><td>16</td></tr><tr><td>2016-05-08</td><td>15</td></tr><tr><td>2016-10-19</td><td>112</td></tr><tr><td>2016-04-27</td><td>10</td></tr><tr><td>2016-11-10</td><td>140</td></tr><tr><td>2016-02-03</td><td>9</td></tr><tr><td>2016-10-06</td><td>185</td></tr><tr><td>2016-09-09</td><td>153</td></tr><tr><td>2016-01-02</td><td>12</td></tr><tr><td>2016-07-19</td><td>37</td></tr><tr><td>2016-02-26</td><td>7</td></tr><tr><td>2016-03-28</td><td>13</td></tr><tr><td>2016-05-01</td><td>13</td></tr><tr><td>2016-02-07</td><td>8</td></tr><tr><td>2016-03-15</td><td>5</td></tr><tr><td>2016-04-29</td><td>7</td></tr><tr><td>2016-07-20</td><td>72</td></tr><tr><td>2016-08-08</td><td>180</td></tr><tr><td>2016-03-16</td><td>7</td></tr><tr><td>2016-03-30</td><td>10</td></tr><tr><td>2016-05-03</td><td>15</td></tr><tr><td>2016-06-01</td><td>15</td></tr><tr><td>2016-09-28</td><td>121</td></tr><tr><td>2016-09-22</td><td>126</td></tr><tr><td>2016-03-10</td><td>5</td></tr><tr><td>2016-05-05</td><td>14</td></tr><tr><td>2016-12-01</td><td>167</td></tr><tr><td>2016-02-19</td><td>10</td></tr><tr><td>2016-01-17</td><td>7</td></tr><tr><td>2016-09-23</td><td>149</td></tr><tr><td>2016-06-16</td><td>7</td></tr><tr><td>2016-07-30</td><td>31</td></tr><tr><td>2016-03-13</td><td>6</td></tr><tr><td>2016-11-15</td><td>147</td></tr><tr><td>2016-12-23</td><td>159</td></tr><tr><td>2016-11-17</td><td>139</td></tr><tr><td>2016-04-21</td><td>5</td></tr><tr><td>2016-03-23</td><td>6</td></tr><tr><td>2016-08-18</td><td>137</td></tr><tr><td>2016-06-18</td><td>8</td></tr><tr><td>2016-09-05</td><td>112</td></tr><tr><td>2016-07-10</td><td>34</td></tr><tr><td>2016-10-22</td><td>161</td></tr><tr><td>2016-05-30</td><td>15</td></tr><tr><td>2016-09-16</td><td>102</td></tr><tr><td>2016-06-07</td><td>11</td></tr><tr><td>2016-12-08</td><td>162</td></tr><tr><td>2016-06-30</td><td>10</td></tr><tr><td>2016-12-03</td><td>178</td></tr><tr><td>2016-11-13</td><td>136</td></tr><tr><td>2016-08-12</td><td>148</td></tr><tr><td>2016-08-13</td><td>129</td></tr><tr><td>2016-04-26</td><td>9</td></tr><tr><td>2016-04-09</td><td>10</td></tr><tr><td>2016-10-27</td><td>102</td></tr><tr><td>2016-03-25</td><td>4</td></tr><tr><td>2016-08-23</td><td>89</td></tr><tr><td>2016-07-18</td><td>21</td></tr><tr><td>2016-04-14</td><td>7</td></tr><tr><td>2016-12-27</td><td>131</td></tr><tr><td>2016-01-18</td><td>7</td></tr><tr><td>2016-01-27</td><td>3</td></tr><tr><td>2016-04-13</td><td>18</td></tr><tr><td>2016-01-31</td><td>8</td></tr><tr><td>2016-05-12</td><td>13</td></tr><tr><td>2016-06-13</td><td>9</td></tr><tr><td>2016-08-25</td><td>152</td></tr><tr><td>2016-02-25</td><td>15</td></tr><tr><td>2016-08-11</td><td>91</td></tr><tr><td>2016-07-13</td><td>44</td></tr><tr><td>2016-12-20</td><td>156</td></tr><tr><td>2016-07-15</td><td>59</td></tr><tr><td>2016-07-16</td><td>40</td></tr><tr><td>2016-09-06</td><td>106</td></tr><tr><td>2016-11-22</td><td>170</td></tr><tr><td>2016-12-16</td><td>130</td></tr><tr><td>2016-08-28</td><td>122</td></tr><tr><td>2016-06-25</td><td>9</td></tr><tr><td>2016-09-20</td><td>136</td></tr><tr><td>2016-09-07</td><td>137</td></tr><tr><td>2016-06-06</td><td>11</td></tr><tr><td>2016-10-04</td><td>112</td></tr><tr><td>2016-07-02</td><td>37</td></tr><tr><td>2016-10-09</td><td>142</td></tr><tr><td>2016-02-06</td><td>14</td></tr><tr><td>2016-08-01</td><td>105</td></tr><tr><td>2016-06-11</td><td>10</td></tr><tr><td>2016-10-23</td><td>142</td></tr><tr><td>2016-02-02</td><td>10</td></tr><tr><td>2016-05-17</td><td>8</td></tr><tr><td>2016-05-07</td><td>9</td></tr><tr><td>2016-08-09</td><td>124</td></tr><tr><td>2016-08-21</td><td>115</td></tr><tr><td>2016-05-15</td><td>8</td></tr><tr><td>2016-04-10</td><td>6</td></tr><tr><td>2016-08-07</td><td>140</td></tr><tr><td>2016-12-02</td><td>172</td></tr><tr><td>2016-11-05</td><td>119</td></tr><tr><td>2016-07-29</td><td>64</td></tr><tr><td>2016-07-12</td><td>47</td></tr><tr><td>2016-01-12</td><td>7</td></tr><tr><td>2016-11-07</td><td>153</td></tr><tr><td>2016-08-03</td><td>126</td></tr><tr><td>2016-08-22</td><td>62</td></tr><tr><td>2016-01-07</td><td>9</td></tr><tr><td>2016-10-31</td><td>118</td></tr><tr><td>2016-12-06</td><td>193</td></tr><tr><td>2016-01-09</td><td>9</td></tr><tr><td>2016-02-01</td><td>10</td></tr><tr><td>2016-05-21</td><td>10</td></tr><tr><td>2016-10-13</td><td>118</td></tr><tr><td>2016-01-03</td><td>7</td></tr><tr><td>2016-06-02</td><td>13</td></tr><tr><td>2016-01-15</td><td>10</td></tr><tr><td>2016-09-19</td><td>170</td></tr><tr><td>2016-01-11</td><td>7</td></tr><tr><td>2016-11-21</td><td>147</td></tr><tr><td>2016-11-04</td><td>136</td></tr><tr><td>2016-12-07</td><td>237</td></tr><tr><td>2016-12-21</td><td>157</td></tr><tr><td>2016-01-21</td><td>7</td></tr><tr><td>2016-03-24</td><td>5</td></tr><tr><td>2016-06-03</td><td>8</td></tr><tr><td>2016-02-27</td><td>3</td></tr><tr><td>2016-04-11</td><td>12</td></tr><tr><td>2016-10-26</td><td>154</td></tr><tr><td>2016-05-28</td><td>12</td></tr><tr><td>2016-05-02</td><td>11</td></tr><tr><td>2016-09-15</td><td>128</td></tr><tr><td>2016-07-21</td><td>21</td></tr><tr><td>2016-12-10</td><td>122</td></tr><tr><td>2016-10-28</td><td>119</td></tr><tr><td>2016-03-04</td><td>6</td></tr><tr><td>2016-11-29</td><td>160</td></tr><tr><td>2016-10-11</td><td>117</td></tr><tr><td>2016-07-01</td><td>35</td></tr><tr><td>2016-07-28</td><td>39</td></tr><tr><td>2016-02-16</td><td>4</td></tr><tr><td>2016-09-26</td><td>114</td></tr><tr><td>2016-07-22</td><td>45</td></tr><tr><td>2016-03-20</td><td>11</td></tr><tr><td>2016-01-16</td><td>11</td></tr><tr><td>2016-04-17</td><td>16</td></tr><tr><td>2016-04-28</td><td>8</td></tr><tr><td>2016-11-24</td><td>182</td></tr><tr><td>2016-06-15</td><td>14</td></tr><tr><td>2016-09-04</td><td>136</td></tr><tr><td>2016-04-06</td><td>5</td></tr><tr><td>2016-08-26</td><td>122</td></tr><tr><td>2016-03-17</td><td>8</td></tr><tr><td>2016-01-13</td><td>12</td></tr><tr><td>2016-04-23</td><td>6</td></tr><tr><td>2016-09-08</td><td>139</td></tr><tr><td>2016-03-02</td><td>10</td></tr><tr><td>2016-08-31</td><td>126</td></tr><tr><td>2016-04-16</td><td>7</td></tr><tr><td>2016-03-06</td><td>6</td></tr><tr><td>2016-08-04</td><td>99</td></tr><tr><td>2016-06-05</td><td>7</td></tr><tr><td>2016-05-22</td><td>12</td></tr><tr><td>2016-09-12</td><td>162</td></tr><tr><td>2016-10-12</td><td>121</td></tr><tr><td>2016-11-12</td><td>132</td></tr><tr><td>2016-11-02</td><td>126</td></tr><tr><td>2016-02-11</td><td>4</td></tr><tr><td>2016-03-08</td><td>14</td></tr><tr><td>2016-10-08</td><td>180</td></tr><tr><td>2016-09-11</td><td>87</td></tr><tr><td>2016-10-10</td><td>129</td></tr><tr><td>2016-03-18</td><td>15</td></tr><tr><td>2016-05-04</td><td>9</td></tr><tr><td>2016-05-23</td><td>12</td></tr><tr><td>2016-10-14</td><td>143</td></tr><tr><td>2016-03-27</td><td>3</td></tr><tr><td>2016-06-08</td><td>17</td></tr><tr><td>2016-03-22</td><td>7</td></tr><tr><td>2016-01-28</td><td>5</td></tr><tr><td>2016-12-22</td><td>103</td></tr><tr><td>2016-05-11</td><td>11</td></tr><tr><td>2016-04-05</td><td>10</td></tr><tr><td>2016-11-03</td><td>172</td></tr><tr><td>2016-07-27</td><td>40</td></tr><tr><td>2016-07-31</td><td>46</td></tr><tr><td>2016-01-30</td><td>6</td></tr><tr><td>2016-03-21</td><td>5</td></tr><tr><td>2016-05-09</td><td>8</td></tr><tr><td>2016-08-19</td><td>149</td></tr><tr><td>2016-09-17</td><td>129</td></tr><tr><td>2016-12-12</td><td>188</td></tr><tr><td>2016-09-21</td><td>133</td></tr><tr><td>2016-08-14</td><td>128</td></tr><tr><td>2016-02-23</td><td>3</td></tr><tr><td>2016-04-03</td><td>5</td></tr><tr><td>2016-12-25</td><td>163</td></tr><tr><td>2016-06-10</td><td>14</td></tr><tr><td>2016-03-26</td><td>8</td></tr><tr><td>2016-05-19</td><td>7</td></tr><tr><td>2016-09-13</td><td>168</td></tr><tr><td>2016-01-26</td><td>9</td></tr><tr><td>2016-04-01</td><td>11</td></tr><tr><td>2016-02-18</td><td>13</td></tr><tr><td>2016-06-24</td><td>10</td></tr><tr><td>2016-04-25</td><td>15</td></tr><tr><td>2016-03-29</td><td>10</td></tr><tr><td>2016-10-15</td><td>158</td></tr><tr><td>2016-01-19</td><td>5</td></tr><tr><td>2016-02-14</td><td>10</td></tr><tr><td>2016-08-27</td><td>112</td></tr><tr><td>2016-10-17</td><td>120</td></tr><tr><td>2016-04-19</td><td>7</td></tr><tr><td>2016-06-12</td><td>11</td></tr><tr><td>2016-05-18</td><td>2</td></tr><tr><td>2016-06-23</td><td>9</td></tr><tr><td>2016-04-20</td><td>9</td></tr><tr><td>2016-10-03</td><td>130</td></tr><tr><td>2016-08-02</td><td>104</td></tr><tr><td>2016-09-18</td><td>148</td></tr><tr><td>2016-06-28</td><td>13</td></tr><tr><td>2016-10-05</td><td>148</td></tr><tr><td>2016-06-27</td><td>13</td></tr><tr><td>2016-08-16</td><td>132</td></tr><tr><td>2016-08-24</td><td>166</td></tr><tr><td>2016-02-22</td><td>11</td></tr><tr><td>2016-05-06</td><td>15</td></tr><tr><td>2016-03-09</td><td>5</td></tr><tr><td>2016-02-08</td><td>11</td></tr><tr><td>2016-02-21</td><td>13</td></tr><tr><td>2016-04-04</td><td>12</td></tr><tr><td>2016-07-04</td><td>58</td></tr><tr><td>2016-05-10</td><td>6</td></tr><tr><td>2016-01-06</td><td>2</td></tr><tr><td>2016-05-14</td><td>12</td></tr><tr><td>2016-08-15</td><td>93</td></tr><tr><td>2016-06-14</td><td>11</td></tr><tr><td>2016-08-17</td><td>124</td></tr><tr><td>2016-11-19</td><td>148</td></tr><tr><td>2016-04-02</td><td>13</td></tr><tr><td>2016-07-05</td><td>39</td></tr><tr><td>2016-01-04</td><td>8</td></tr><tr><td>2016-06-22</td><td>6</td></tr><tr><td>2016-08-20</td><td>99</td></tr><tr><td>2016-11-18</td><td>161</td></tr><tr><td>2016-12-26</td><td>175</td></tr><tr><td>2016-03-19</td><td>11</td></tr><tr><td>2016-05-16</td><td>8</td></tr><tr><td>2016-10-21</td><td>125</td></tr><tr><td>2016-06-26</td><td>8</td></tr><tr><td>2016-01-14</td><td>6</td></tr><tr><td>2016-12-13</td><td>189</td></tr><tr><td>2016-02-24</td><td>11</td></tr><tr><td>2016-07-03</td><td>64</td></tr><tr><td>2016-03-14</td><td>9</td></tr><tr><td>2016-04-30</td><td>11</td></tr><tr><td>2016-02-13</td><td>10</td></tr><tr><td>2016-10-30</td><td>121</td></tr><tr><td>2016-06-20</td><td>10</td></tr><tr><td>2016-12-04</td><td>166</td></tr><tr><td>2017-01-27</td><td>142</td></tr><tr><td>2017-05-05</td><td>204</td></tr><tr><td>2017-04-16</td><td>148</td></tr><tr><td>2017-03-23</td><td>155</td></tr><tr><td>2017-02-22</td><td>125</td></tr><tr><td>2017-01-29</td><td>142</td></tr><tr><td>2017-05-20</td><td>193</td></tr><tr><td>2017-02-24</td><td>152</td></tr><tr><td>2017-05-17</td><td>170</td></tr><tr><td>2017-03-25</td><td>144</td></tr><tr><td>2017-04-19</td><td>218</td></tr><tr><td>2017-05-27</td><td>148</td></tr><tr><td>2017-02-17</td><td>194</td></tr><tr><td>2017-03-13</td><td>191</td></tr><tr><td>2017-04-20</td><td>165</td></tr><tr><td>2017-03-15</td><td>141</td></tr><tr><td>2017-04-17</td><td>168</td></tr><tr><td>2017-01-09</td><td>117</td></tr><tr><td>2017-05-04</td><td>191</td></tr><tr><td>2017-02-10</td><td>168</td></tr><tr><td>2017-02-07</td><td>161</td></tr><tr><td>2017-02-26</td><td>119</td></tr><tr><td>2017-01-25</td><td>121</td></tr><tr><td>2017-02-16</td><td>124</td></tr><tr><td>2017-01-14</td><td>143</td></tr><tr><td>2017-05-16</td><td>190</td></tr><tr><td>2017-04-21</td><td>137</td></tr><tr><td>2017-05-03</td><td>172</td></tr><tr><td>2017-04-25</td><td>176</td></tr><tr><td>2017-01-23</td><td>113</td></tr><tr><td>2017-02-04</td><td>128</td></tr><tr><td>2017-05-08</td><td>194</td></tr><tr><td>2017-05-19</td><td>171</td></tr><tr><td>2017-03-28</td><td>149</td></tr><tr><td>2017-05-22</td><td>152</td></tr><tr><td>2017-01-26</td><td>156</td></tr><tr><td>2017-03-21</td><td>177</td></tr><tr><td>2017-01-21</td><td>131</td></tr><tr><td>2017-02-09</td><td>138</td></tr><tr><td>2017-03-18</td><td>142</td></tr><tr><td>2017-01-17</td><td>123</td></tr><tr><td>2017-04-03</td><td>246</td></tr><tr><td>2017-05-14</td><td>186</td></tr><tr><td>2017-01-04</td><td>138</td></tr><tr><td>2017-05-07</td><td>188</td></tr><tr><td>2017-01-16</td><td>171</td></tr><tr><td>2017-04-14</td><td>166</td></tr><tr><td>2017-01-05</td><td>141</td></tr><tr><td>2017-03-10</td><td>159</td></tr><tr><td>2017-04-10</td><td>161</td></tr><tr><td>2017-03-02</td><td>118</td></tr><tr><td>2017-04-13</td><td>108</td></tr><tr><td>2017-05-01</td><td>220</td></tr><tr><td>2017-01-06</td><td>151</td></tr><tr><td>2017-03-07</td><td>159</td></tr><tr><td>2017-01-31</td><td>148</td></tr><tr><td>2017-02-06</td><td>156</td></tr><tr><td>2017-01-11</td><td>162</td></tr><tr><td>2017-03-12</td><td>167</td></tr><tr><td>2017-02-18</td><td>195</td></tr><tr><td>2017-05-26</td><td>175</td></tr><tr><td>2017-05-02</td><td>158</td></tr><tr><td>2017-05-25</td><td>189</td></tr><tr><td>2017-02-15</td><td>155</td></tr><tr><td>2017-04-04</td><td>156</td></tr><tr><td>2017-01-20</td><td>195</td></tr><tr><td>2017-01-02</td><td>135</td></tr><tr><td>2017-03-26</td><td>131</td></tr><tr><td>2017-05-10</td><td>150</td></tr><tr><td>2017-04-28</td><td>205</td></tr><tr><td>2017-03-05</td><td>146</td></tr><tr><td>2017-04-29</td><td>163</td></tr><tr><td>2017-04-06</td><td>172</td></tr><tr><td>2017-04-24</td><td>167</td></tr><tr><td>2017-01-13</td><td>123</td></tr><tr><td>2017-04-05</td><td>122</td></tr><tr><td>2017-03-27</td><td>185</td></tr><tr><td>2017-04-26</td><td>153</td></tr><tr><td>2017-03-30</td><td>157</td></tr><tr><td>2017-03-17</td><td>138</td></tr><tr><td>2017-03-08</td><td>136</td></tr><tr><td>2017-05-13</td><td>164</td></tr><tr><td>2017-05-21</td><td>185</td></tr><tr><td>2017-05-24</td><td>148</td></tr><tr><td>2017-03-16</td><td>107</td></tr><tr><td>2017-04-27</td><td>176</td></tr><tr><td>2017-02-01</td><td>179</td></tr><tr><td>2017-03-06</td><td>137</td></tr><tr><td>2017-01-03</td><td>138</td></tr><tr><td>2017-04-11</td><td>137</td></tr><tr><td>2017-03-03</td><td>129</td></tr><tr><td>2017-03-22</td><td>141</td></tr><tr><td>2017-03-11</td><td>158</td></tr><tr><td>2017-01-28</td><td>181</td></tr><tr><td>2017-05-09</td><td>191</td></tr><tr><td>2017-03-09</td><td>179</td></tr><tr><td>2017-01-08</td><td>168</td></tr><tr><td>2017-04-12</td><td>156</td></tr><tr><td>2017-01-07</td><td>152</td></tr><tr><td>2017-04-30</td><td>169</td></tr><tr><td>2017-05-23</td><td>158</td></tr><tr><td>2017-02-23</td><td>137</td></tr><tr><td>2017-01-18</td><td>159</td></tr><tr><td>2017-03-31</td><td>131</td></tr><tr><td>2017-05-11</td><td>164</td></tr><tr><td>2017-02-20</td><td>237</td></tr><tr><td>2017-04-01</td><td>170</td></tr><tr><td>2017-02-12</td><td>163</td></tr><tr><td>2017-03-01</td><td>306</td></tr><tr><td>2017-03-20</td><td>163</td></tr><tr><td>2017-01-15</td><td>156</td></tr><tr><td>2017-04-02</td><td>168</td></tr><tr><td>2017-01-22</td><td>126</td></tr><tr><td>2017-02-25</td><td>103</td></tr><tr><td>2017-03-04</td><td>144</td></tr><tr><td>2017-02-05</td><td>172</td></tr><tr><td>2017-01-12</td><td>121</td></tr><tr><td>2017-04-18</td><td>186</td></tr><tr><td>2017-05-12</td><td>199</td></tr><tr><td>2017-05-15</td><td>171</td></tr><tr><td>2017-02-19</td><td>165</td></tr><tr><td>2017-04-23</td><td>178</td></tr><tr><td>2017-02-13</td><td>150</td></tr><tr><td>2017-03-19</td><td>152</td></tr><tr><td>2017-02-14</td><td>135</td></tr><tr><td>2017-03-29</td><td>136</td></tr><tr><td>2017-03-14</td><td>137</td></tr><tr><td>2017-02-28</td><td>162</td></tr><tr><td>2017-04-15</td><td>181</td></tr><tr><td>2017-02-11</td><td>124</td></tr><tr><td>2017-05-18</td><td>136</td></tr><tr><td>2017-05-06</td><td>168</td></tr><tr><td>2017-02-03</td><td>189</td></tr><tr><td>2017-02-08</td><td>164</td></tr><tr><td>2017-02-27</td><td>174</td></tr><tr><td>2017-02-02</td><td>148</td></tr><tr><td>2017-01-10</td><td>192</td></tr><tr><td>2017-04-09</td><td>140</td></tr><tr><td>2017-04-08</td><td>173</td></tr><tr><td>2017-02-21</td><td>167</td></tr><tr><td>2017-01-01</td><td>98</td></tr><tr><td>2017-01-19</td><td>131</td></tr><tr><td>2017-03-24</td><td>158</td></tr><tr><td>2017-04-22</td><td>161</td></tr><tr><td>2017-01-30</td><td>145</td></tr><tr><td>2017-04-07</td><td>160</td></tr><tr><td>2017-01-24</td><td>173</td></tr><tr><td>2017-06-29</td><td>172</td></tr><tr><td>2017-06-28</td><td>215</td></tr><tr><td>2017-06-13</td><td>151</td></tr><tr><td>2017-05-29</td><td>157</td></tr><tr><td>2017-05-30</td><td>162</td></tr><tr><td>2017-06-16</td><td>133</td></tr><tr><td>2017-05-31</td><td>192</td></tr><tr><td>2017-06-06</td><td>216</td></tr><tr><td>2017-06-25</td><td>189</td></tr><tr><td>2017-06-24</td><td>196</td></tr><tr><td>2017-06-21</td><td>218</td></tr><tr><td>2017-06-22</td><td>191</td></tr><tr><td>2017-06-05</td><td>187</td></tr><tr><td>2017-05-28</td><td>170</td></tr><tr><td>2017-06-03</td><td>177</td></tr><tr><td>2017-06-10</td><td>151</td></tr><tr><td>2017-06-14</td><td>258</td></tr><tr><td>2017-06-18</td><td>163</td></tr><tr><td>2017-06-01</td><td>122</td></tr><tr><td>2017-06-11</td><td>233</td></tr><tr><td>2017-06-23</td><td>161</td></tr><tr><td>2017-06-27</td><td>172</td></tr><tr><td>2017-06-07</td><td>222</td></tr><tr><td>2017-06-26</td><td>187</td></tr><tr><td>2017-06-12</td><td>153</td></tr><tr><td>2017-06-19</td><td>194</td></tr><tr><td>2017-06-15</td><td>195</td></tr><tr><td>2017-06-30</td><td>136</td></tr><tr><td>2017-06-09</td><td>182</td></tr><tr><td>2017-06-08</td><td>171</td></tr><tr><td>2017-06-17</td><td>215</td></tr><tr><td>2017-06-04</td><td>148</td></tr><tr><td>2017-06-20</td><td>185</td></tr><tr><td>2017-06-02</td><td>137</td></tr><tr><td>2015-05-02</td><td>5</td></tr><tr><td>2015-06-06</td><td>7</td></tr><tr><td>2015-03-08</td><td>4</td></tr><tr><td>2015-07-24</td><td>5</td></tr><tr><td>2015-12-25</td><td>8</td></tr><tr><td>2015-02-24</td><td>9</td></tr><tr><td>2015-04-10</td><td>5</td></tr><tr><td>2015-05-08</td><td>10</td></tr><tr><td>2015-09-10</td><td>9</td></tr><tr><td>2015-12-08</td><td>11</td></tr><tr><td>2015-01-14</td><td>9</td></tr><tr><td>2015-04-24</td><td>3</td></tr><tr><td>2015-11-10</td><td>7</td></tr><tr><td>2015-10-04</td><td>6</td></tr><tr><td>2015-11-01</td><td>6</td></tr><tr><td>2015-12-26</td><td>8</td></tr><tr><td>2015-10-18</td><td>7</td></tr><tr><td>2015-10-10</td><td>4</td></tr><tr><td>2015-01-31</td><td>7</td></tr><tr><td>2015-01-09</td><td>4</td></tr><tr><td>2015-08-03</td><td>5</td></tr><tr><td>2015-10-09</td><td>3</td></tr><tr><td>2015-02-17</td><td>4</td></tr><tr><td>2015-06-11</td><td>5</td></tr><tr><td>2015-07-22</td><td>7</td></tr><tr><td>2015-08-08</td><td>8</td></tr><tr><td>2015-11-26</td><td>6</td></tr><tr><td>2015-01-17</td><td>8</td></tr><tr><td>2015-01-28</td><td>5</td></tr><tr><td>2015-03-24</td><td>12</td></tr><tr><td>2015-08-12</td><td>9</td></tr><tr><td>2015-07-02</td><td>3</td></tr><tr><td>2015-09-16</td><td>5</td></tr><tr><td>2015-12-14</td><td>16</td></tr><tr><td>2015-07-04</td><td>9</td></tr><tr><td>2015-01-08</td><td>8</td></tr><tr><td>2015-02-03</td><td>7</td></tr><tr><td>2015-08-14</td><td>10</td></tr><tr><td>2015-03-03</td><td>8</td></tr><tr><td>2015-12-12</td><td>17</td></tr><tr><td>2015-03-20</td><td>9</td></tr><tr><td>2015-08-17</td><td>10</td></tr><tr><td>2015-04-02</td><td>3</td></tr><tr><td>2015-01-27</td><td>5</td></tr><tr><td>2015-09-15</td><td>4</td></tr><tr><td>2015-08-21</td><td>10</td></tr><tr><td>2015-01-05</td><td>3</td></tr><tr><td>2015-08-19</td><td>11</td></tr><tr><td>2015-03-28</td><td>8</td></tr><tr><td>2015-12-15</td><td>5</td></tr><tr><td>2015-09-12</td><td>7</td></tr><tr><td>2015-09-09</td><td>9</td></tr><tr><td>2015-10-28</td><td>6</td></tr><tr><td>2015-11-18</td><td>7</td></tr><tr><td>2015-04-13</td><td>4</td></tr><tr><td>2015-12-03</td><td>16</td></tr><tr><td>2015-03-30</td><td>4</td></tr><tr><td>2015-09-01</td><td>2</td></tr><tr><td>2015-01-07</td><td>4</td></tr><tr><td>2015-08-30</td><td>8</td></tr><tr><td>2015-10-11</td><td>7</td></tr><tr><td>2015-04-29</td><td>11</td></tr><tr><td>2015-04-16</td><td>7</td></tr><tr><td>2015-02-05</td><td>6</td></tr><tr><td>2015-12-21</td><td>3</td></tr><tr><td>2015-12-20</td><td>14</td></tr><tr><td>2015-07-31</td><td>9</td></tr><tr><td>2015-11-06</td><td>8</td></tr><tr><td>2015-06-21</td><td>9</td></tr><tr><td>2015-03-25</td><td>5</td></tr><tr><td>2015-01-13</td><td>3</td></tr><tr><td>2015-06-16</td><td>2</td></tr><tr><td>2015-01-21</td><td>7</td></tr><tr><td>2015-02-28</td><td>5</td></tr><tr><td>2015-12-24</td><td>12</td></tr><tr><td>2015-07-03</td><td>13</td></tr><tr><td>2015-08-11</td><td>5</td></tr><tr><td>2015-05-18</td><td>8</td></tr><tr><td>2015-05-09</td><td>6</td></tr><tr><td>2015-05-19</td><td>6</td></tr><tr><td>2015-05-22</td><td>5</td></tr><tr><td>2015-06-27</td><td>9</td></tr><tr><td>2015-06-19</td><td>13</td></tr><tr><td>2015-12-19</td><td>14</td></tr><tr><td>2015-07-28</td><td>5</td></tr><tr><td>2015-10-07</td><td>6</td></tr><tr><td>2015-07-15</td><td>4</td></tr><tr><td>2015-08-25</td><td>11</td></tr><tr><td>2015-11-08</td><td>7</td></tr><tr><td>2015-12-17</td><td>11</td></tr><tr><td>2015-01-01</td><td>4</td></tr><tr><td>2015-02-02</td><td>6</td></tr><tr><td>2015-11-02</td><td>4</td></tr><tr><td>2015-04-27</td><td>9</td></tr><tr><td>2015-03-07</td><td>9</td></tr><tr><td>2015-07-12</td><td>7</td></tr><tr><td>2015-10-24</td><td>9</td></tr><tr><td>2015-08-01</td><td>9</td></tr><tr><td>2015-04-06</td><td>5</td></tr><tr><td>2015-07-14</td><td>9</td></tr><tr><td>2015-12-10</td><td>9</td></tr><tr><td>2015-09-18</td><td>9</td></tr><tr><td>2015-12-29</td><td>14</td></tr><tr><td>2015-06-25</td><td>4</td></tr><tr><td>2015-07-06</td><td>10</td></tr><tr><td>2015-02-12</td><td>3</td></tr><tr><td>2015-02-14</td><td>8</td></tr><tr><td>2015-10-20</td><td>9</td></tr><tr><td>2015-03-17</td><td>9</td></tr><tr><td>2015-10-25</td><td>7</td></tr><tr><td>2015-04-08</td><td>3</td></tr><tr><td>2015-09-05</td><td>3</td></tr><tr><td>2015-02-21</td><td>1</td></tr><tr><td>2015-02-11</td><td>12</td></tr><tr><td>2015-02-20</td><td>5</td></tr><tr><td>2015-11-20</td><td>9</td></tr><tr><td>2015-09-22</td><td>5</td></tr><tr><td>2015-02-07</td><td>6</td></tr><tr><td>2015-02-25</td><td>5</td></tr><tr><td>2015-01-03</td><td>8</td></tr><tr><td>2015-09-28</td><td>2</td></tr><tr><td>2015-03-12</td><td>5</td></tr><tr><td>2015-01-11</td><td>9</td></tr><tr><td>2015-12-05</td><td>13</td></tr><tr><td>2015-07-26</td><td>5</td></tr><tr><td>2015-09-08</td><td>9</td></tr><tr><td>2015-12-16</td><td>11</td></tr><tr><td>2015-11-05</td><td>6</td></tr><tr><td>2015-03-18</td><td>8</td></tr><tr><td>2015-09-06</td><td>4</td></tr><tr><td>2015-01-16</td><td>7</td></tr><tr><td>2015-07-09</td><td>5</td></tr><tr><td>2015-09-14</td><td>9</td></tr><tr><td>2015-03-14</td><td>4</td></tr><tr><td>2015-08-26</td><td>13</td></tr><tr><td>2015-04-28</td><td>7</td></tr><tr><td>2015-09-04</td><td>6</td></tr><tr><td>2015-01-29</td><td>4</td></tr><tr><td>2015-06-20</td><td>7</td></tr><tr><td>2015-06-18</td><td>11</td></tr><tr><td>2015-09-30</td><td>9</td></tr><tr><td>2015-05-03</td><td>4</td></tr><tr><td>2015-07-30</td><td>10</td></tr><tr><td>2015-01-12</td><td>7</td></tr><tr><td>2015-10-02</td><td>8</td></tr><tr><td>2015-01-20</td><td>6</td></tr><tr><td>2015-12-31</td><td>7</td></tr><tr><td>2015-10-16</td><td>9</td></tr><tr><td>2015-08-22</td><td>10</td></tr><tr><td>2015-01-26</td><td>4</td></tr><tr><td>2015-10-21</td><td>9</td></tr><tr><td>2015-04-15</td><td>13</td></tr><tr><td>2015-01-25</td><td>4</td></tr><tr><td>2015-07-10</td><td>7</td></tr><tr><td>2015-10-12</td><td>11</td></tr><tr><td>2015-10-15</td><td>6</td></tr><tr><td>2015-02-06</td><td>10</td></tr><tr><td>2015-11-14</td><td>5</td></tr><tr><td>2015-08-07</td><td>11</td></tr><tr><td>2015-08-20</td><td>12</td></tr><tr><td>2015-03-01</td><td>6</td></tr><tr><td>2015-02-26</td><td>11</td></tr><tr><td>2015-04-11</td><td>6</td></tr><tr><td>2015-06-22</td><td>5</td></tr><tr><td>2015-07-07</td><td>9</td></tr><tr><td>2015-05-11</td><td>4</td></tr><tr><td>2015-06-05</td><td>6</td></tr><tr><td>2015-01-19</td><td>6</td></tr><tr><td>2015-05-29</td><td>1</td></tr><tr><td>2015-04-19</td><td>4</td></tr><tr><td>2015-05-21</td><td>6</td></tr><tr><td>2015-09-11</td><td>8</td></tr><tr><td>2015-03-22</td><td>6</td></tr><tr><td>2015-08-06</td><td>12</td></tr><tr><td>2015-07-27</td><td>10</td></tr><tr><td>2015-12-27</td><td>9</td></tr><tr><td>2015-06-24</td><td>7</td></tr><tr><td>2015-11-13</td><td>4</td></tr><tr><td>2015-06-14</td><td>4</td></tr><tr><td>2015-12-02</td><td>9</td></tr><tr><td>2015-05-23</td><td>7</td></tr><tr><td>2015-07-29</td><td>6</td></tr><tr><td>2015-05-25</td><td>9</td></tr><tr><td>2015-12-06</td><td>5</td></tr><tr><td>2015-11-22</td><td>4</td></tr><tr><td>2015-02-15</td><td>6</td></tr><tr><td>2015-03-10</td><td>2</td></tr><tr><td>2015-11-21</td><td>7</td></tr><tr><td>2015-08-29</td><td>6</td></tr><tr><td>2015-07-01</td><td>8</td></tr><tr><td>2015-07-11</td><td>12</td></tr><tr><td>2015-07-05</td><td>10</td></tr><tr><td>2015-06-28</td><td>5</td></tr><tr><td>2015-02-13</td><td>6</td></tr><tr><td>2015-04-22</td><td>4</td></tr><tr><td>2015-03-15</td><td>10</td></tr><tr><td>2015-05-31</td><td>3</td></tr><tr><td>2015-09-07</td><td>2</td></tr><tr><td>2015-08-28</td><td>8</td></tr><tr><td>2015-11-12</td><td>6</td></tr><tr><td>2015-10-30</td><td>12</td></tr><tr><td>2015-10-23</td><td>7</td></tr><tr><td>2015-03-09</td><td>6</td></tr><tr><td>2015-09-17</td><td>5</td></tr><tr><td>2015-04-20</td><td>11</td></tr><tr><td>2015-09-13</td><td>11</td></tr><tr><td>2015-03-23</td><td>5</td></tr><tr><td>2015-11-28</td><td>6</td></tr><tr><td>2015-09-20</td><td>7</td></tr><tr><td>2015-05-30</td><td>7</td></tr><tr><td>2015-03-31</td><td>4</td></tr><tr><td>2015-05-10</td><td>3</td></tr><tr><td>2015-06-26</td><td>7</td></tr><tr><td>2015-09-21</td><td>5</td></tr><tr><td>2015-02-16</td><td>3</td></tr><tr><td>2015-07-08</td><td>6</td></tr><tr><td>2015-05-12</td><td>8</td></tr><tr><td>2015-04-26</td><td>4</td></tr><tr><td>2015-09-26</td><td>10</td></tr><tr><td>2015-11-11</td><td>11</td></tr><tr><td>2015-10-22</td><td>7</td></tr><tr><td>2015-12-11</td><td>13</td></tr><tr><td>2015-06-09</td><td>5</td></tr><tr><td>2015-08-05</td><td>7</td></tr><tr><td>2015-11-16</td><td>8</td></tr><tr><td>2015-05-01</td><td>12</td></tr><tr><td>2015-08-10</td><td>4</td></tr><tr><td>2015-10-29</td><td>6</td></tr><tr><td>2015-06-10</td><td>8</td></tr><tr><td>2015-03-19</td><td>4</td></tr><tr><td>2015-04-14</td><td>3</td></tr><tr><td>2015-05-06</td><td>8</td></tr><tr><td>2015-01-15</td><td>7</td></tr><tr><td>2015-02-08</td><td>4</td></tr><tr><td>2015-07-20</td><td>9</td></tr><tr><td>2015-12-22</td><td>12</td></tr><tr><td>2015-09-24</td><td>9</td></tr><tr><td>2015-03-11</td><td>6</td></tr><tr><td>2015-10-31</td><td>5</td></tr><tr><td>2015-04-23</td><td>10</td></tr><tr><td>2015-01-06</td><td>6</td></tr><tr><td>2015-05-13</td><td>13</td></tr><tr><td>2015-08-24</td><td>10</td></tr><tr><td>2015-10-08</td><td>7</td></tr><tr><td>2015-06-13</td><td>4</td></tr><tr><td>2015-10-17</td><td>6</td></tr><tr><td>2015-10-27</td><td>3</td></tr><tr><td>2015-11-09</td><td>4</td></tr><tr><td>2015-12-23</td><td>12</td></tr><tr><td>2015-01-04</td><td>5</td></tr><tr><td>2015-03-26</td><td>9</td></tr><tr><td>2015-11-19</td><td>4</td></tr><tr><td>2015-12-13</td><td>12</td></tr><tr><td>2015-03-29</td><td>6</td></tr><tr><td>2015-02-18</td><td>2</td></tr><tr><td>2015-02-04</td><td>7</td></tr><tr><td>2015-08-13</td><td>12</td></tr><tr><td>2015-04-03</td><td>9</td></tr><tr><td>2015-04-09</td><td>5</td></tr><tr><td>2015-08-16</td><td>5</td></tr><tr><td>2015-02-23</td><td>5</td></tr><tr><td>2015-11-04</td><td>1</td></tr><tr><td>2015-09-29</td><td>7</td></tr><tr><td>2015-11-23</td><td>5</td></tr><tr><td>2015-01-24</td><td>8</td></tr><tr><td>2015-12-30</td><td>7</td></tr><tr><td>2015-02-01</td><td>5</td></tr><tr><td>2015-08-18</td><td>8</td></tr><tr><td>2015-12-01</td><td>11</td></tr><tr><td>2015-09-19</td><td>9</td></tr><tr><td>2015-06-07</td><td>8</td></tr><tr><td>2015-06-04</td><td>6</td></tr><tr><td>2015-09-27</td><td>3</td></tr><tr><td>2015-06-08</td><td>8</td></tr><tr><td>2015-02-09</td><td>2</td></tr><tr><td>2015-08-23</td><td>5</td></tr><tr><td>2015-08-04</td><td>8</td></tr><tr><td>2015-06-01</td><td>4</td></tr><tr><td>2015-06-17</td><td>6</td></tr><tr><td>2015-06-29</td><td>8</td></tr><tr><td>2015-04-04</td><td>7</td></tr><tr><td>2015-04-18</td><td>7</td></tr><tr><td>2015-11-30</td><td>9</td></tr><tr><td>2015-07-18</td><td>7</td></tr><tr><td>2015-12-04</td><td>3</td></tr><tr><td>2015-11-24</td><td>10</td></tr><tr><td>2015-07-21</td><td>10</td></tr><tr><td>2015-01-22</td><td>9</td></tr><tr><td>2015-06-30</td><td>6</td></tr><tr><td>2015-06-15</td><td>6</td></tr><tr><td>2015-12-28</td><td>10</td></tr><tr><td>2015-06-12</td><td>12</td></tr><tr><td>2015-05-04</td><td>11</td></tr><tr><td>2015-04-21</td><td>5</td></tr><tr><td>2015-03-13</td><td>10</td></tr><tr><td>2015-05-20</td><td>6</td></tr><tr><td>2015-09-25</td><td>6</td></tr><tr><td>2015-03-06</td><td>9</td></tr><tr><td>2015-09-02</td><td>7</td></tr><tr><td>2015-10-14</td><td>6</td></tr><tr><td>2015-05-28</td><td>5</td></tr><tr><td>2015-01-30</td><td>10</td></tr><tr><td>2015-01-10</td><td>4</td></tr><tr><td>2015-08-02</td><td>8</td></tr><tr><td>2015-05-27</td><td>5</td></tr><tr><td>2015-09-03</td><td>8</td></tr><tr><td>2015-02-19</td><td>5</td></tr><tr><td>2015-11-03</td><td>6</td></tr><tr><td>2015-08-15</td><td>12</td></tr><tr><td>2015-08-09</td><td>8</td></tr><tr><td>2015-05-17</td><td>9</td></tr><tr><td>2015-04-17</td><td>9</td></tr><tr><td>2015-06-03</td><td>3</td></tr><tr><td>2015-10-13</td><td>13</td></tr><tr><td>2015-04-07</td><td>9</td></tr><tr><td>2015-06-23</td><td>15</td></tr><tr><td>2015-02-10</td><td>9</td></tr><tr><td>2015-05-24</td><td>8</td></tr><tr><td>2015-04-25</td><td>8</td></tr><tr><td>2015-05-14</td><td>6</td></tr><tr><td>2015-05-26</td><td>5</td></tr><tr><td>2015-07-23</td><td>7</td></tr><tr><td>2015-01-18</td><td>6</td></tr><tr><td>2015-10-06</td><td>7</td></tr><tr><td>2015-03-21</td><td>4</td></tr><tr><td>2015-12-18</td><td>10</td></tr><tr><td>2015-11-27</td><td>14</td></tr><tr><td>2015-03-16</td><td>5</td></tr><tr><td>2015-06-02</td><td>12</td></tr><tr><td>2015-11-17</td><td>6</td></tr><tr><td>2015-11-07</td><td>5</td></tr><tr><td>2015-09-23</td><td>7</td></tr><tr><td>2015-01-02</td><td>4</td></tr><tr><td>2015-10-19</td><td>10</td></tr><tr><td>2015-11-25</td><td>8</td></tr><tr><td>2015-04-01</td><td>5</td></tr><tr><td>2015-12-09</td><td>7</td></tr><tr><td>2015-11-15</td><td>2</td></tr><tr><td>2015-04-30</td><td>13</td></tr><tr><td>2015-07-13</td><td>12</td></tr><tr><td>2015-04-05</td><td>4</td></tr><tr><td>2015-03-04</td><td>8</td></tr><tr><td>2015-01-23</td><td>3</td></tr><tr><td>2015-08-31</td><td>12</td></tr><tr><td>2015-10-05</td><td>3</td></tr><tr><td>2015-10-03</td><td>7</td></tr><tr><td>2015-05-07</td><td>5</td></tr><tr><td>2015-03-05</td><td>3</td></tr><tr><td>2015-07-25</td><td>9</td></tr><tr><td>2015-05-05</td><td>3</td></tr><tr><td>2015-03-27</td><td>3</td></tr><tr><td>2015-05-16</td><td>11</td></tr><tr><td>2015-10-01</td><td>8</td></tr><tr><td>2015-07-17</td><td>11</td></tr><tr><td>2015-02-22</td><td>10</td></tr><tr><td>2015-03-02</td><td>7</td></tr><tr><td>2015-04-12</td><td>11</td></tr><tr><td>2015-05-15</td><td>7</td></tr><tr><td>2015-11-29</td><td>6</td></tr><tr><td>2015-07-19</td><td>7</td></tr><tr><td>2015-12-07</td><td>17</td></tr><tr><td>2015-10-26</td><td>9</td></tr><tr><td>2015-07-16</td><td>6</td></tr><tr><td>2015-08-27</td><td>11</td></tr><tr><td>2015-02-27</td><td>3</td></tr><tr><td>2016-12-29</td><td>181</td></tr><tr><td>2016-12-31</td><td>195</td></tr><tr><td>2016-12-30</td><td>158</td></tr><tr><td>2016-12-28</td><td>161</td></tr></tbody></table></div>"
      ]
     },
     "metadata": {
      "application/vnd.databricks.v1+output": {
       "addedWidgets": {},
       "aggData": [],
       "aggError": "",
       "aggOverflow": false,
       "aggSchema": [],
       "aggSeriesLimitReached": false,
       "aggType": "",
       "arguments": {},
       "columnCustomDisplayInfos": {},
       "data": [
        [
         "2016-12-14",
         150
        ],
        [
         "2016-11-06",
         125
        ],
        [
         "2016-05-24",
         15
        ],
        [
         "2016-01-23",
         14
        ],
        [
         "2016-01-22",
         10
        ],
        [
         "2016-02-05",
         8
        ],
        [
         "2016-11-14",
         152
        ],
        [
         "2016-08-06",
         106
        ],
        [
         "2016-09-03",
         115
        ],
        [
         "2016-11-23",
         116
        ]
       ],
       "datasetInfos": [],
       "dbfsResultPath": null,
       "isJsonSchema": true,
       "metadata": {},
       "overflow": false,
       "plotOptions": {
        "customPlotOptions": {},
        "displayType": "table",
        "pivotAggregation": null,
        "pivotColumns": null,
        "xColumns": null,
        "yColumns": null
       },
       "removedWidgets": [],
       "schema": [
        {
         "metadata": "{\"__detected_date_formats\": \"M/d/yyyy\"}",
         "name": "OrderDate",
         "type": "\"date\""
        },
        {
         "metadata": "{\"__autoGeneratedAlias\": \"true\"}",
         "name": "count(OrderNumber)",
         "type": "\"long\""
        }
       ],
       "type": "table"
      }
     },
     "output_type": "display_data"
    },
    {
     "output_type": "display_data",
     "data": {
      "text/plain": [
       "Databricks visualization. Run in Databricks to view."
      ]
     },
     "metadata": {
      "application/vnd.databricks.v1.subcommand+json": {
       "baseErrorDetails": null,
       "bindings": {},
       "collapsed": false,
       "command": "%python\n__backend_agg_display_orig = display\n__backend_agg_dfs = []\ndef __backend_agg_display_new(df):\n    __backend_agg_df_modules = [\"pandas.core.frame\", \"databricks.koalas.frame\", \"pyspark.sql.dataframe\", \"pyspark.pandas.frame\", \"pyspark.sql.connect.dataframe\"]\n    if (type(df).__module__ in __backend_agg_df_modules and type(df).__name__ == 'DataFrame') or isinstance(df, list):\n        __backend_agg_dfs.append(df)\n\ndisplay = __backend_agg_display_new\n\ndef __backend_agg_user_code_fn():\n    import base64\n    exec(base64.standard_b64decode(\"ZGZfc2FsLmdyb3VwQnkoJ09yZGVyRGF0ZScpLmFnZyhjb3VudCgnT3JkZXJOdW1iZXInKSkuYWxpYXMoJ3RvdGFsX29yZGVyJykuZGlzcGxheSgp\").decode())\n\ntry:\n    # run user code\n    __backend_agg_user_code_fn()\n\n    #reset display function\n    display = __backend_agg_display_orig\n\n    if len(__backend_agg_dfs) > 0:\n        # create a temp view\n        if type(__backend_agg_dfs[0]).__module__ == \"databricks.koalas.frame\":\n            # koalas dataframe\n            __backend_agg_dfs[0].to_spark().createOrReplaceTempView(\"DatabricksView633a8da\")\n        elif type(__backend_agg_dfs[0]).__module__ == \"pandas.core.frame\" or isinstance(__backend_agg_dfs[0], list):\n            # pandas dataframe\n            spark.createDataFrame(__backend_agg_dfs[0]).createOrReplaceTempView(\"DatabricksView633a8da\")\n        else:\n            __backend_agg_dfs[0].createOrReplaceTempView(\"DatabricksView633a8da\")\n        #run backend agg\n        display(spark.sql(\"\"\"WITH q AS (select * from DatabricksView633a8da) SELECT `OrderDate`,SUM(`count(OrderNumber)`) `column_e7cc6000269` FROM q GROUP BY `OrderDate`\"\"\"))\n    else:\n        displayHTML(\"dataframe no longer exists. If you're using dataframe.display(), use display(dataframe) instead.\")\n\n\nfinally:\n    spark.sql(\"drop view if exists DatabricksView633a8da\")\n    display = __backend_agg_display_orig\n    del __backend_agg_display_new\n    del __backend_agg_display_orig\n    del __backend_agg_dfs\n    del __backend_agg_user_code_fn\n\n",
       "commandTitle": "Visualization 1",
       "commandType": "auto",
       "commandVersion": 0,
       "commentThread": [],
       "commentsVisible": false,
       "contentSha256Hex": null,
       "customPlotOptions": {
        "redashChart": [
         {
          "key": "type",
          "value": "CHART"
         },
         {
          "key": "options",
          "value": {
           "alignYAxesAtZero": true,
           "coefficient": 1,
           "columnConfigurationMap": {
            "x": {
             "column": "OrderDate",
             "id": "column_e7cc6000265"
            },
            "y": [
             {
              "column": "count(OrderNumber)",
              "id": "column_e7cc6000269",
              "transform": "SUM"
             }
            ]
           },
           "dateTimeFormat": "DD/MM/YYYY HH:mm",
           "direction": {
            "type": "counterclockwise"
           },
           "error_y": {
            "type": "data",
            "visible": true
           },
           "globalSeriesType": "area",
           "isAggregationOn": true,
           "legend": {
            "traceorder": "normal"
           },
           "missingValuesAsZero": true,
           "numBins": 10,
           "numberFormat": "0,0.[00000]",
           "percentFormat": "0[.]00%",
           "series": {
            "error_y": {
             "type": "data",
             "visible": true
            },
            "stacking": null
           },
           "seriesOptions": {
            "column_e7cc6000260": {
             "name": "count(OrderNumber)",
             "type": "area",
             "yAxis": 0
            },
            "column_e7cc6000269": {
             "type": "area",
             "yAxis": 0
            },
            "count(OrderNumber)": {
             "type": "area",
             "yAxis": 0
            }
           },
           "showDataLabels": false,
           "sizemode": "diameter",
           "sortX": true,
           "sortY": true,
           "swappedAxes": false,
           "textFormat": "",
           "useAggregationsUi": true,
           "valuesOptions": {},
           "version": 2,
           "xAxis": {
            "labels": {
             "enabled": true
            },
            "type": "-"
           },
           "yAxis": [
            {
             "type": "-"
            },
            {
             "opposite": true,
             "type": "-"
            }
           ]
          }
         }
        ]
       },
       "datasetPreviewNameToCmdIdMap": {},
       "diffDeletes": [],
       "diffInserts": [],
       "displayType": "redashChart",
       "error": null,
       "errorDetails": null,
       "errorSummary": null,
       "errorTraceType": null,
       "finishTime": 0,
       "globalVars": {},
       "guid": "",
       "height": "auto",
       "hideCommandCode": false,
       "hideCommandResult": false,
       "iPythonMetadata": null,
       "inputWidgets": {},
       "isLockedInExamMode": false,
       "latestUser": "a user",
       "latestUserId": null,
       "listResultMetadata": null,
       "metadata": {},
       "nuid": "7dff59a0-0202-416f-8380-f06b29eea342",
       "origId": 0,
       "parentHierarchy": [],
       "pivotAggregation": null,
       "pivotColumns": null,
       "position": 25.375,
       "resultDbfsErrorMessage": null,
       "resultDbfsStatus": "INLINED_IN_TREE",
       "results": null,
       "showCommandTitle": false,
       "startTime": 0,
       "state": "input",
       "streamStates": {},
       "subcommandOptions": {
        "queryPlan": {
         "groups": [
          {
           "column": "OrderDate",
           "type": "column"
          }
         ],
         "selects": [
          {
           "column": "OrderDate",
           "type": "column"
          },
          {
           "alias": "column_e7cc6000269",
           "args": [
            {
             "column": "count(OrderNumber)",
             "type": "column"
            }
           ],
           "function": "SUM",
           "type": "function"
          }
         ]
        }
       },
       "submitTime": 0,
       "subtype": "tableResultSubCmd.visualization",
       "tableResultIndex": 0,
       "tableResultSettingsMap": {},
       "useConsistentColors": false,
       "version": "CommandV1",
       "width": "auto",
       "workflows": [],
       "xColumns": null,
       "yColumns": null
      }
     },
     "output_type": "display_data"
    }
   ],
   "source": [
    "df_sal.groupBy('OrderDate').agg(count('OrderNumber')).alias('total_order').display()"
   ]
  },
  {
   "cell_type": "code",
   "execution_count": 0,
   "metadata": {
    "application/vnd.databricks.v1+cell": {
     "cellMetadata": {
      "byteLimit": 2048000,
      "rowLimit": 10000
     },
     "inputWidgets": {},
     "nuid": "87756185-d4f0-4a28-968d-934284d9ce05",
     "showTitle": false,
     "tableResultSettingsMap": {},
     "title": ""
    }
   },
   "outputs": [],
   "source": [
    "df_sal.write.format('Parquet')\\\n",
    "                .mode('append')\\\n",
    "                .option(\"path\",\"abfss://silver@abhishekdatalake0.dfs.core.windows.net/AdventureWorks_Sales\")\\\n",
    "                .save()"
   ]
  },
  {
   "cell_type": "markdown",
   "metadata": {
    "application/vnd.databricks.v1+cell": {
     "cellMetadata": {},
     "inputWidgets": {},
     "nuid": "57789d5a-1b48-479b-8a8e-78246db5cb83",
     "showTitle": false,
     "tableResultSettingsMap": {},
     "title": ""
    }
   },
   "source": [
    "### 7. Territories"
   ]
  },
  {
   "cell_type": "code",
   "execution_count": 0,
   "metadata": {
    "application/vnd.databricks.v1+cell": {
     "cellMetadata": {
      "byteLimit": 2048000,
      "rowLimit": 10000
     },
     "inputWidgets": {},
     "nuid": "2cd9dce6-d50c-48e8-b198-52236e070454",
     "showTitle": false,
     "tableResultSettingsMap": {},
     "title": ""
    }
   },
   "outputs": [
    {
     "output_type": "display_data",
     "data": {
      "text/html": [
       "<style scoped>\n",
       "  .table-result-container {\n",
       "    max-height: 300px;\n",
       "    overflow: auto;\n",
       "  }\n",
       "  table, th, td {\n",
       "    border: 1px solid black;\n",
       "    border-collapse: collapse;\n",
       "  }\n",
       "  th, td {\n",
       "    padding: 5px;\n",
       "  }\n",
       "  th {\n",
       "    text-align: left;\n",
       "  }\n",
       "</style><div class='table-result-container'><table class='table-result'><thead style='background-color: white'><tr><th>SalesTerritoryKey</th><th>Region</th><th>Country</th><th>Continent</th></tr></thead><tbody><tr><td>1</td><td>Northwest</td><td>United States</td><td>North America</td></tr><tr><td>2</td><td>Northeast</td><td>United States</td><td>North America</td></tr><tr><td>3</td><td>Central</td><td>United States</td><td>North America</td></tr><tr><td>4</td><td>Southwest</td><td>United States</td><td>North America</td></tr><tr><td>5</td><td>Southeast</td><td>United States</td><td>North America</td></tr><tr><td>6</td><td>Canada</td><td>Canada</td><td>North America</td></tr><tr><td>7</td><td>France</td><td>France</td><td>Europe</td></tr><tr><td>8</td><td>Germany</td><td>Germany</td><td>Europe</td></tr><tr><td>9</td><td>Australia</td><td>Australia</td><td>Pacific</td></tr><tr><td>10</td><td>United Kingdom</td><td>United Kingdom</td><td>Europe</td></tr></tbody></table></div>"
      ]
     },
     "metadata": {
      "application/vnd.databricks.v1+output": {
       "addedWidgets": {},
       "aggData": [],
       "aggError": "",
       "aggOverflow": false,
       "aggSchema": [],
       "aggSeriesLimitReached": false,
       "aggType": "",
       "arguments": {},
       "columnCustomDisplayInfos": {},
       "data": [
        [
         1,
         "Northwest",
         "United States",
         "North America"
        ],
        [
         2,
         "Northeast",
         "United States",
         "North America"
        ],
        [
         3,
         "Central",
         "United States",
         "North America"
        ],
        [
         4,
         "Southwest",
         "United States",
         "North America"
        ],
        [
         5,
         "Southeast",
         "United States",
         "North America"
        ],
        [
         6,
         "Canada",
         "Canada",
         "North America"
        ],
        [
         7,
         "France",
         "France",
         "Europe"
        ],
        [
         8,
         "Germany",
         "Germany",
         "Europe"
        ],
        [
         9,
         "Australia",
         "Australia",
         "Pacific"
        ],
        [
         10,
         "United Kingdom",
         "United Kingdom",
         "Europe"
        ]
       ],
       "datasetInfos": [],
       "dbfsResultPath": null,
       "isJsonSchema": true,
       "metadata": {},
       "overflow": false,
       "plotOptions": {
        "customPlotOptions": {},
        "displayType": "table",
        "pivotAggregation": null,
        "pivotColumns": null,
        "xColumns": null,
        "yColumns": null
       },
       "removedWidgets": [],
       "schema": [
        {
         "metadata": "{}",
         "name": "SalesTerritoryKey",
         "type": "\"integer\""
        },
        {
         "metadata": "{}",
         "name": "Region",
         "type": "\"string\""
        },
        {
         "metadata": "{}",
         "name": "Country",
         "type": "\"string\""
        },
        {
         "metadata": "{}",
         "name": "Continent",
         "type": "\"string\""
        }
       ],
       "type": "table"
      }
     },
     "output_type": "display_data"
    },
    {
     "output_type": "display_data",
     "data": {
      "text/plain": [
       "Databricks visualization. Run in Databricks to view."
      ]
     },
     "metadata": {
      "application/vnd.databricks.v1.subcommand+json": {
       "baseErrorDetails": null,
       "bindings": {},
       "collapsed": false,
       "command": "%python\n__backend_agg_display_orig = display\n__backend_agg_dfs = []\ndef __backend_agg_display_new(df):\n    __backend_agg_df_modules = [\"pandas.core.frame\", \"databricks.koalas.frame\", \"pyspark.sql.dataframe\", \"pyspark.pandas.frame\", \"pyspark.sql.connect.dataframe\"]\n    if (type(df).__module__ in __backend_agg_df_modules and type(df).__name__ == 'DataFrame') or isinstance(df, list):\n        __backend_agg_dfs.append(df)\n\ndisplay = __backend_agg_display_new\n\ndef __backend_agg_user_code_fn():\n    import base64\n    exec(base64.standard_b64decode(\"I2Rpc3BsYXkoZGZfdGVyKQ==\").decode())\n\ntry:\n    # run user code\n    __backend_agg_user_code_fn()\n\n    #reset display function\n    display = __backend_agg_display_orig\n\n    if len(__backend_agg_dfs) > 0:\n        # create a temp view\n        if type(__backend_agg_dfs[0]).__module__ == \"databricks.koalas.frame\":\n            # koalas dataframe\n            __backend_agg_dfs[0].to_spark().createOrReplaceTempView(\"DatabricksView9e9372f\")\n        elif type(__backend_agg_dfs[0]).__module__ == \"pandas.core.frame\" or isinstance(__backend_agg_dfs[0], list):\n            # pandas dataframe\n            spark.createDataFrame(__backend_agg_dfs[0]).createOrReplaceTempView(\"DatabricksView9e9372f\")\n        else:\n            __backend_agg_dfs[0].createOrReplaceTempView(\"DatabricksView9e9372f\")\n        #run backend agg\n        display(spark.sql(\"\"\"WITH q AS (select * from DatabricksView9e9372f) SELECT `Country`,COUNT(`Region`) `column_e7cc6000279` FROM q GROUP BY `Country`\"\"\"))\n    else:\n        displayHTML(\"dataframe no longer exists. If you're using dataframe.display(), use display(dataframe) instead.\")\n\n\nfinally:\n    spark.sql(\"drop view if exists DatabricksView9e9372f\")\n    display = __backend_agg_display_orig\n    del __backend_agg_display_new\n    del __backend_agg_display_orig\n    del __backend_agg_dfs\n    del __backend_agg_user_code_fn\n\n",
       "commandTitle": "Visualization 1",
       "commandType": "auto",
       "commandVersion": 0,
       "commentThread": [],
       "commentsVisible": false,
       "contentSha256Hex": null,
       "customPlotOptions": {
        "redashChart": [
         {
          "key": "type",
          "value": "CHART"
         },
         {
          "key": "options",
          "value": {
           "alignYAxesAtZero": true,
           "coefficient": 1,
           "columnConfigurationMap": {
            "x": {
             "column": "Country",
             "id": "column_e7cc6000277"
            },
            "y": [
             {
              "column": "Region",
              "id": "column_e7cc6000279",
              "transform": "COUNT"
             }
            ]
           },
           "dateTimeFormat": "DD/MM/YYYY HH:mm",
           "direction": {
            "type": "counterclockwise"
           },
           "error_y": {
            "type": "data",
            "visible": true
           },
           "globalSeriesType": "column",
           "isAggregationOn": true,
           "legend": {
            "traceorder": "normal"
           },
           "missingValuesAsZero": true,
           "numberFormat": "0,0.[00000]",
           "percentFormat": "0[.]00%",
           "series": {
            "error_y": {
             "type": "data",
             "visible": true
            },
            "stacking": null
           },
           "seriesOptions": {
            "column_e7cc6000279": {
             "type": "column",
             "yAxis": 0
            }
           },
           "showDataLabels": false,
           "sizemode": "diameter",
           "sortX": true,
           "sortY": true,
           "swappedAxes": false,
           "textFormat": "",
           "useAggregationsUi": true,
           "valuesOptions": {},
           "version": 2,
           "xAxis": {
            "labels": {
             "enabled": true
            },
            "type": "-"
           },
           "yAxis": [
            {
             "type": "-"
            },
            {
             "opposite": true,
             "type": "-"
            }
           ]
          }
         }
        ]
       },
       "datasetPreviewNameToCmdIdMap": {},
       "diffDeletes": [],
       "diffInserts": [],
       "displayType": "redashChart",
       "error": null,
       "errorDetails": null,
       "errorSummary": null,
       "errorTraceType": null,
       "finishTime": 0,
       "globalVars": {},
       "guid": "",
       "height": "auto",
       "hideCommandCode": false,
       "hideCommandResult": false,
       "iPythonMetadata": null,
       "inputWidgets": {},
       "isLockedInExamMode": false,
       "latestUser": "a user",
       "latestUserId": null,
       "listResultMetadata": null,
       "metadata": {},
       "nuid": "9dbb4741-c8d0-4562-9bca-80a3d0dae61a",
       "origId": 0,
       "parentHierarchy": [],
       "pivotAggregation": null,
       "pivotColumns": null,
       "position": 26.0,
       "resultDbfsErrorMessage": null,
       "resultDbfsStatus": "INLINED_IN_TREE",
       "results": null,
       "showCommandTitle": false,
       "startTime": 0,
       "state": "input",
       "streamStates": {},
       "subcommandOptions": {
        "queryPlan": {
         "groups": [
          {
           "column": "Country",
           "type": "column"
          }
         ],
         "selects": [
          {
           "column": "Country",
           "type": "column"
          },
          {
           "alias": "column_e7cc6000279",
           "args": [
            {
             "column": "Region",
             "type": "column"
            }
           ],
           "function": "COUNT",
           "type": "function"
          }
         ]
        }
       },
       "submitTime": 0,
       "subtype": "tableResultSubCmd.visualization",
       "tableResultIndex": 0,
       "tableResultSettingsMap": {},
       "useConsistentColors": false,
       "version": "CommandV1",
       "width": "auto",
       "workflows": [],
       "xColumns": null,
       "yColumns": null
      }
     },
     "output_type": "display_data"
    }
   ],
   "source": [
    "df_ter.display()"
   ]
  },
  {
   "cell_type": "code",
   "execution_count": 0,
   "metadata": {
    "application/vnd.databricks.v1+cell": {
     "cellMetadata": {
      "byteLimit": 2048000,
      "rowLimit": 10000
     },
     "inputWidgets": {},
     "nuid": "de4b3274-8437-4548-a11a-baadc8844f0c",
     "showTitle": false,
     "tableResultSettingsMap": {},
     "title": ""
    }
   },
   "outputs": [],
   "source": [
    "df_ter.write.format('Parquet')\\\n",
    "                .mode('append')\\\n",
    "                .option(\"path\",\"abfss://silver@abhishekdatalake0.dfs.core.windows.net/AdventureWorks_Territories\")\\\n",
    "                .save()"
   ]
  },
  {
   "cell_type": "markdown",
   "metadata": {
    "application/vnd.databricks.v1+cell": {
     "cellMetadata": {},
     "inputWidgets": {},
     "nuid": "57df71d4-5c7c-4fc8-b3be-f32d4213f281",
     "showTitle": false,
     "tableResultSettingsMap": {},
     "title": ""
    }
   },
   "source": [
    "### 8. Product Subcategory"
   ]
  },
  {
   "cell_type": "code",
   "execution_count": 0,
   "metadata": {
    "application/vnd.databricks.v1+cell": {
     "cellMetadata": {
      "byteLimit": 2048000,
      "rowLimit": 10000
     },
     "inputWidgets": {},
     "nuid": "7ca930e0-3269-46d1-b98c-3993d6b16290",
     "showTitle": false,
     "tableResultSettingsMap": {},
     "title": ""
    }
   },
   "outputs": [
    {
     "output_type": "display_data",
     "data": {
      "text/html": [
       "<style scoped>\n",
       "  .table-result-container {\n",
       "    max-height: 300px;\n",
       "    overflow: auto;\n",
       "  }\n",
       "  table, th, td {\n",
       "    border: 1px solid black;\n",
       "    border-collapse: collapse;\n",
       "  }\n",
       "  th, td {\n",
       "    padding: 5px;\n",
       "  }\n",
       "  th {\n",
       "    text-align: left;\n",
       "  }\n",
       "</style><div class='table-result-container'><table class='table-result'><thead style='background-color: white'><tr><th>ProductSubcategoryKey</th><th>SubcategoryName</th><th>ProductCategoryKey</th></tr></thead><tbody><tr><td>1</td><td>Mountain Bikes</td><td>1</td></tr><tr><td>2</td><td>Road Bikes</td><td>1</td></tr><tr><td>3</td><td>Touring Bikes</td><td>1</td></tr><tr><td>4</td><td>Handlebars</td><td>2</td></tr><tr><td>5</td><td>Bottom Brackets</td><td>2</td></tr><tr><td>6</td><td>Brakes</td><td>2</td></tr><tr><td>7</td><td>Chains</td><td>2</td></tr><tr><td>8</td><td>Cranksets</td><td>2</td></tr><tr><td>9</td><td>Derailleurs</td><td>2</td></tr><tr><td>10</td><td>Forks</td><td>2</td></tr></tbody></table></div>"
      ]
     },
     "metadata": {
      "application/vnd.databricks.v1+output": {
       "addedWidgets": {},
       "aggData": [],
       "aggError": "",
       "aggOverflow": false,
       "aggSchema": [],
       "aggSeriesLimitReached": false,
       "aggType": "",
       "arguments": {},
       "columnCustomDisplayInfos": {},
       "data": [
        [
         1,
         "Mountain Bikes",
         1
        ],
        [
         2,
         "Road Bikes",
         1
        ],
        [
         3,
         "Touring Bikes",
         1
        ],
        [
         4,
         "Handlebars",
         2
        ],
        [
         5,
         "Bottom Brackets",
         2
        ],
        [
         6,
         "Brakes",
         2
        ],
        [
         7,
         "Chains",
         2
        ],
        [
         8,
         "Cranksets",
         2
        ],
        [
         9,
         "Derailleurs",
         2
        ],
        [
         10,
         "Forks",
         2
        ]
       ],
       "datasetInfos": [],
       "dbfsResultPath": null,
       "isJsonSchema": true,
       "metadata": {},
       "overflow": false,
       "plotOptions": {
        "customPlotOptions": {},
        "displayType": "table",
        "pivotAggregation": null,
        "pivotColumns": null,
        "xColumns": null,
        "yColumns": null
       },
       "removedWidgets": [],
       "schema": [
        {
         "metadata": "{}",
         "name": "ProductSubcategoryKey",
         "type": "\"integer\""
        },
        {
         "metadata": "{}",
         "name": "SubcategoryName",
         "type": "\"string\""
        },
        {
         "metadata": "{}",
         "name": "ProductCategoryKey",
         "type": "\"integer\""
        }
       ],
       "type": "table"
      }
     },
     "output_type": "display_data"
    }
   ],
   "source": [
    "df_prosub.limit(10).display()"
   ]
  },
  {
   "cell_type": "code",
   "execution_count": 0,
   "metadata": {
    "application/vnd.databricks.v1+cell": {
     "cellMetadata": {
      "byteLimit": 2048000,
      "rowLimit": 10000
     },
     "inputWidgets": {},
     "nuid": "6efc6791-83fa-4761-bdaf-8ff29ea7b7fc",
     "showTitle": false,
     "tableResultSettingsMap": {},
     "title": ""
    }
   },
   "outputs": [],
   "source": [
    "df_prosub.write.format('Parquet')\\\n",
    "                .mode('append')\\\n",
    "                .option(\"path\",\"abfss://silver@abhishekdatalake0.dfs.core.windows.net/Product_Subcategories\")\\\n",
    "                .save()"
   ]
  }
 ],
 "metadata": {
  "application/vnd.databricks.v1+notebook": {
   "computePreferences": null,
   "dashboards": [],
   "environmentMetadata": {
    "base_environment": "",
    "environment_version": "2"
   },
   "inputWidgetPreferences": null,
   "language": "python",
   "notebookMetadata": {
    "pythonIndentUnit": 4
   },
   "notebookName": "Silver_Layer",
   "widgets": {}
  },
  "language_info": {
   "name": "python"
  }
 },
 "nbformat": 4,
 "nbformat_minor": 0
}
